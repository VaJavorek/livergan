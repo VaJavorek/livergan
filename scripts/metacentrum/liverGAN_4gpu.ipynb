{
 "cells": [
  {
   "cell_type": "markdown",
   "metadata": {
    "id": "6AP57z9AfvnP"
   },
   "source": [
    "# Install"
   ]
  },
  {
   "cell_type": "code",
   "execution_count": 1,
   "metadata": {
    "colab": {
     "base_uri": "https://localhost:8080/"
    },
    "id": "NmjlpaNzflFC",
    "outputId": "06f74d9a-2247-4c28-e3ef-64c912cb7a51"
   },
   "outputs": [
    {
     "name": "stdout",
     "output_type": "stream",
     "text": [
      "fatal: destination path 'pytorch-CycleGAN-and-pix2pix' already exists and is not an empty directory.\r\n"
     ]
    }
   ],
   "source": [
    "!git clone https://github.com/junyanz/pytorch-CycleGAN-and-pix2pix"
   ]
  },
  {
   "cell_type": "code",
   "execution_count": 2,
   "metadata": {
    "id": "jKF-dT22fp5-"
   },
   "outputs": [],
   "source": [
    "import os\n",
    "os.chdir('pytorch-CycleGAN-and-pix2pix/')"
   ]
  },
  {
   "cell_type": "code",
   "execution_count": 3,
   "metadata": {
    "colab": {
     "base_uri": "https://localhost:8080/"
    },
    "id": "sP1ZZd5vftMI",
    "outputId": "7e51e813-c106-44b8-f5d5-b5c28d34233e"
   },
   "outputs": [
    {
     "name": "stdout",
     "output_type": "stream",
     "text": [
      "Defaulting to user installation because normal site-packages is not writeable\n",
      "Looking in indexes: https://pypi.org/simple, https://pypi.ngc.nvidia.com\n",
      "Requirement already satisfied: torch>=1.4.0 in /usr/local/lib/python3.10/dist-packages (from -r requirements.txt (line 1)) (2.1.0a0+29c30b1)\n",
      "Requirement already satisfied: torchvision>=0.5.0 in /usr/local/lib/python3.10/dist-packages (from -r requirements.txt (line 2)) (0.16.0a0)\n",
      "Requirement already satisfied: dominate>=2.4.0 in /auto/brno2/home/javorek/.local/lib/python3.10/site-packages (from -r requirements.txt (line 3)) (2.8.0)\n",
      "Requirement already satisfied: visdom>=0.1.8.8 in /auto/brno2/home/javorek/.local/lib/python3.10/site-packages (from -r requirements.txt (line 4)) (0.2.4)\n",
      "Requirement already satisfied: wandb in /auto/brno2/home/javorek/.local/lib/python3.10/site-packages (from -r requirements.txt (line 5)) (0.15.12)\n",
      "Requirement already satisfied: filelock in /usr/local/lib/python3.10/dist-packages (from torch>=1.4.0->-r requirements.txt (line 1)) (3.12.2)\n",
      "Requirement already satisfied: typing-extensions in /usr/local/lib/python3.10/dist-packages (from torch>=1.4.0->-r requirements.txt (line 1)) (4.7.1)\n",
      "Requirement already satisfied: sympy in /usr/local/lib/python3.10/dist-packages (from torch>=1.4.0->-r requirements.txt (line 1)) (1.12)\n",
      "Requirement already satisfied: networkx in /usr/local/lib/python3.10/dist-packages (from torch>=1.4.0->-r requirements.txt (line 1)) (2.6.3)\n",
      "Requirement already satisfied: jinja2 in /usr/local/lib/python3.10/dist-packages (from torch>=1.4.0->-r requirements.txt (line 1)) (3.1.2)\n",
      "Requirement already satisfied: fsspec in /usr/local/lib/python3.10/dist-packages (from torch>=1.4.0->-r requirements.txt (line 1)) (2023.6.0)\n",
      "Requirement already satisfied: numpy in /usr/local/lib/python3.10/dist-packages (from torchvision>=0.5.0->-r requirements.txt (line 2)) (1.22.2)\n",
      "Requirement already satisfied: requests in /usr/local/lib/python3.10/dist-packages (from torchvision>=0.5.0->-r requirements.txt (line 2)) (2.31.0)\n",
      "Requirement already satisfied: pillow!=8.3.*,>=5.3.0 in /usr/local/lib/python3.10/dist-packages (from torchvision>=0.5.0->-r requirements.txt (line 2)) (9.2.0)\n",
      "Requirement already satisfied: scipy in /usr/local/lib/python3.10/dist-packages (from visdom>=0.1.8.8->-r requirements.txt (line 4)) (1.11.1)\n",
      "Requirement already satisfied: tornado in /usr/local/lib/python3.10/dist-packages (from visdom>=0.1.8.8->-r requirements.txt (line 4)) (6.3.2)\n",
      "Requirement already satisfied: six in /usr/local/lib/python3.10/dist-packages (from visdom>=0.1.8.8->-r requirements.txt (line 4)) (1.16.0)\n",
      "Requirement already satisfied: jsonpatch in /auto/brno2/home/javorek/.local/lib/python3.10/site-packages (from visdom>=0.1.8.8->-r requirements.txt (line 4)) (1.33)\n",
      "Requirement already satisfied: websocket-client in /auto/brno2/home/javorek/.local/lib/python3.10/site-packages (from visdom>=0.1.8.8->-r requirements.txt (line 4)) (1.6.4)\n",
      "Requirement already satisfied: Click!=8.0.0,>=7.1 in /usr/local/lib/python3.10/dist-packages (from wandb->-r requirements.txt (line 5)) (8.1.5)\n",
      "Requirement already satisfied: GitPython!=3.1.29,>=1.0.0 in /auto/brno2/home/javorek/.local/lib/python3.10/site-packages (from wandb->-r requirements.txt (line 5)) (3.1.37)\n",
      "Requirement already satisfied: psutil>=5.0.0 in /usr/local/lib/python3.10/dist-packages (from wandb->-r requirements.txt (line 5)) (5.9.4)\n",
      "Requirement already satisfied: sentry-sdk>=1.0.0 in /auto/brno2/home/javorek/.local/lib/python3.10/site-packages (from wandb->-r requirements.txt (line 5)) (1.32.0)\n",
      "Requirement already satisfied: docker-pycreds>=0.4.0 in /auto/brno2/home/javorek/.local/lib/python3.10/site-packages (from wandb->-r requirements.txt (line 5)) (0.4.0)\n",
      "Requirement already satisfied: PyYAML in /usr/local/lib/python3.10/dist-packages (from wandb->-r requirements.txt (line 5)) (6.0.1)\n",
      "Requirement already satisfied: pathtools in /auto/brno2/home/javorek/.local/lib/python3.10/site-packages (from wandb->-r requirements.txt (line 5)) (0.1.2)\n",
      "Requirement already satisfied: setproctitle in /auto/brno2/home/javorek/.local/lib/python3.10/site-packages (from wandb->-r requirements.txt (line 5)) (1.3.3)\n",
      "Requirement already satisfied: setuptools in /usr/local/lib/python3.10/dist-packages (from wandb->-r requirements.txt (line 5)) (68.0.0)\n",
      "Requirement already satisfied: appdirs>=1.4.3 in /auto/brno2/home/javorek/.local/lib/python3.10/site-packages (from wandb->-r requirements.txt (line 5)) (1.4.4)\n",
      "Requirement already satisfied: protobuf!=4.21.0,<5,>=3.19.0 in /usr/local/lib/python3.10/dist-packages (from wandb->-r requirements.txt (line 5)) (4.21.12)\n",
      "Requirement already satisfied: gitdb<5,>=4.0.1 in /auto/brno2/home/javorek/.local/lib/python3.10/site-packages (from GitPython!=3.1.29,>=1.0.0->wandb->-r requirements.txt (line 5)) (4.0.10)\n",
      "Requirement already satisfied: charset-normalizer<4,>=2 in /usr/local/lib/python3.10/dist-packages (from requests->torchvision>=0.5.0->-r requirements.txt (line 2)) (3.2.0)\n",
      "Requirement already satisfied: idna<4,>=2.5 in /usr/local/lib/python3.10/dist-packages (from requests->torchvision>=0.5.0->-r requirements.txt (line 2)) (3.4)\n",
      "Requirement already satisfied: urllib3<3,>=1.21.1 in /usr/local/lib/python3.10/dist-packages (from requests->torchvision>=0.5.0->-r requirements.txt (line 2)) (1.26.16)\n",
      "Requirement already satisfied: certifi>=2017.4.17 in /usr/local/lib/python3.10/dist-packages (from requests->torchvision>=0.5.0->-r requirements.txt (line 2)) (2023.7.22)\n",
      "Requirement already satisfied: MarkupSafe>=2.0 in /usr/local/lib/python3.10/dist-packages (from jinja2->torch>=1.4.0->-r requirements.txt (line 1)) (2.1.3)\n",
      "Requirement already satisfied: jsonpointer>=1.9 in /auto/brno2/home/javorek/.local/lib/python3.10/site-packages (from jsonpatch->visdom>=0.1.8.8->-r requirements.txt (line 4)) (2.4)\n",
      "Requirement already satisfied: mpmath>=0.19 in /usr/local/lib/python3.10/dist-packages (from sympy->torch>=1.4.0->-r requirements.txt (line 1)) (1.3.0)\n",
      "Requirement already satisfied: smmap<6,>=3.0.1 in /auto/brno2/home/javorek/.local/lib/python3.10/site-packages (from gitdb<5,>=4.0.1->GitPython!=3.1.29,>=1.0.0->wandb->-r requirements.txt (line 5)) (5.0.1)\n",
      "\n",
      "\u001b[1m[\u001b[0m\u001b[34;49mnotice\u001b[0m\u001b[1;39;49m]\u001b[0m\u001b[39;49m A new release of pip is available: \u001b[0m\u001b[31;49m23.2.1\u001b[0m\u001b[39;49m -> \u001b[0m\u001b[32;49m23.3\u001b[0m\n",
      "\u001b[1m[\u001b[0m\u001b[34;49mnotice\u001b[0m\u001b[1;39;49m]\u001b[0m\u001b[39;49m To update, run: \u001b[0m\u001b[32;49mpython -m pip install --upgrade pip\u001b[0m\n"
     ]
    }
   ],
   "source": [
    "!pip install -r requirements.txt"
   ]
  },
  {
   "cell_type": "markdown",
   "metadata": {
    "id": "joualwe-f16y"
   },
   "source": [
    "Dataset"
   ]
  },
  {
   "cell_type": "code",
   "execution_count": 4,
   "metadata": {
    "id": "fxBaL4iJf2m_",
    "outputId": "f7349a95-f040-484e-8e6e-567ff6010c20"
   },
   "outputs": [
    {
     "name": "stdout",
     "output_type": "stream",
     "text": [
      "testA  testB  trainA  trainB\r\n"
     ]
    }
   ],
   "source": [
    "!ls /storage/plzen1/home/javorek/livergan"
   ]
  },
  {
   "cell_type": "markdown",
   "metadata": {
    "id": "Ze2OYjZLgAl7"
   },
   "source": [
    "Pretrained model\n",
    "\n",
    "`[apple2orange, orange2apple, summer2winter_yosemite, winter2summer_yosemite, horse2zebra, zebra2horse, monet2photo, style_monet, style_cezanne, style_ukiyoe, style_vangogh, sat2map, map2sat, cityscapes_photo2label, cityscapes_label2photo, facades_photo2label, facades_label2photo, iphone2dslr_flower]`\n"
   ]
  },
  {
   "cell_type": "code",
   "execution_count": 6,
   "metadata": {
    "colab": {
     "base_uri": "https://localhost:8080/"
    },
    "id": "GocGMkW0f6YH",
    "outputId": "5e3885dd-a680-41d1-cf86-b835d812efc3"
   },
   "outputs": [
    {
     "name": "stdout",
     "output_type": "stream",
     "text": [
      "Note: available models are apple2orange, orange2apple, summer2winter_yosemite, winter2summer_yosemite, horse2zebra, zebra2horse, monet2photo, style_monet, style_cezanne, style_ukiyoe, style_vangogh, sat2map, map2sat, cityscapes_photo2label, cityscapes_label2photo, facades_photo2label, facades_label2photo, iphone2dslr_flower\n",
      "Specified [monet2photo]\n",
      "WARNING: timestamping does nothing in combination with -O. See the manual\n",
      "for details.\n",
      "\n",
      "--2023-10-18 23:08:49--  http://efrosgans.eecs.berkeley.edu/cyclegan/pretrained_models/monet2photo.pth\n",
      "Resolving efrosgans.eecs.berkeley.edu (efrosgans.eecs.berkeley.edu)... 128.32.244.190\n",
      "Connecting to efrosgans.eecs.berkeley.edu (efrosgans.eecs.berkeley.edu)|128.32.244.190|:80... connected.\n",
      "HTTP request sent, awaiting response... 200 OK\n",
      "Length: 45575747 (43M)\n",
      "Saving to: ‘./checkpoints/monet2photo_pretrained/latest_net_G.pth’\n",
      "\n",
      "./checkpoints/monet 100%[===================>]  43.46M  12.4MB/s    in 3.7s    \n",
      "\n",
      "2023-10-18 23:08:55 (11.8 MB/s) - ‘./checkpoints/monet2photo_pretrained/latest_net_G.pth’ saved [45575747/45575747]\n",
      "\n"
     ]
    }
   ],
   "source": [
    "!bash ./scripts/download_cyclegan_model.sh monet2photo"
   ]
  },
  {
   "cell_type": "code",
   "execution_count": 5,
   "metadata": {},
   "outputs": [
    {
     "name": "stdout",
     "output_type": "stream",
     "text": [
      "Defaulting to user installation because normal site-packages is not writeable\n",
      "Looking in indexes: https://pypi.org/simple, https://pypi.ngc.nvidia.com\n",
      "Requirement already satisfied: wandb in /auto/brno2/home/javorek/.local/lib/python3.10/site-packages (0.15.12)\n",
      "Requirement already satisfied: Click!=8.0.0,>=7.1 in /usr/local/lib/python3.10/dist-packages (from wandb) (8.1.5)\n",
      "Requirement already satisfied: GitPython!=3.1.29,>=1.0.0 in /auto/brno2/home/javorek/.local/lib/python3.10/site-packages (from wandb) (3.1.37)\n",
      "Requirement already satisfied: requests<3,>=2.0.0 in /usr/local/lib/python3.10/dist-packages (from wandb) (2.31.0)\n",
      "Requirement already satisfied: psutil>=5.0.0 in /usr/local/lib/python3.10/dist-packages (from wandb) (5.9.4)\n",
      "Requirement already satisfied: sentry-sdk>=1.0.0 in /auto/brno2/home/javorek/.local/lib/python3.10/site-packages (from wandb) (1.32.0)\n",
      "Requirement already satisfied: docker-pycreds>=0.4.0 in /auto/brno2/home/javorek/.local/lib/python3.10/site-packages (from wandb) (0.4.0)\n",
      "Requirement already satisfied: PyYAML in /usr/local/lib/python3.10/dist-packages (from wandb) (6.0.1)\n",
      "Requirement already satisfied: pathtools in /auto/brno2/home/javorek/.local/lib/python3.10/site-packages (from wandb) (0.1.2)\n",
      "Requirement already satisfied: setproctitle in /auto/brno2/home/javorek/.local/lib/python3.10/site-packages (from wandb) (1.3.3)\n",
      "Requirement already satisfied: setuptools in /usr/local/lib/python3.10/dist-packages (from wandb) (68.0.0)\n",
      "Requirement already satisfied: appdirs>=1.4.3 in /auto/brno2/home/javorek/.local/lib/python3.10/site-packages (from wandb) (1.4.4)\n",
      "Requirement already satisfied: protobuf!=4.21.0,<5,>=3.19.0 in /usr/local/lib/python3.10/dist-packages (from wandb) (4.21.12)\n",
      "Requirement already satisfied: six>=1.4.0 in /usr/local/lib/python3.10/dist-packages (from docker-pycreds>=0.4.0->wandb) (1.16.0)\n",
      "Requirement already satisfied: gitdb<5,>=4.0.1 in /auto/brno2/home/javorek/.local/lib/python3.10/site-packages (from GitPython!=3.1.29,>=1.0.0->wandb) (4.0.10)\n",
      "Requirement already satisfied: charset-normalizer<4,>=2 in /usr/local/lib/python3.10/dist-packages (from requests<3,>=2.0.0->wandb) (3.2.0)\n",
      "Requirement already satisfied: idna<4,>=2.5 in /usr/local/lib/python3.10/dist-packages (from requests<3,>=2.0.0->wandb) (3.4)\n",
      "Requirement already satisfied: urllib3<3,>=1.21.1 in /usr/local/lib/python3.10/dist-packages (from requests<3,>=2.0.0->wandb) (1.26.16)\n",
      "Requirement already satisfied: certifi>=2017.4.17 in /usr/local/lib/python3.10/dist-packages (from requests<3,>=2.0.0->wandb) (2023.7.22)\n",
      "Requirement already satisfied: smmap<6,>=3.0.1 in /auto/brno2/home/javorek/.local/lib/python3.10/site-packages (from gitdb<5,>=4.0.1->GitPython!=3.1.29,>=1.0.0->wandb) (5.0.1)\n",
      "\n",
      "\u001b[1m[\u001b[0m\u001b[34;49mnotice\u001b[0m\u001b[1;39;49m]\u001b[0m\u001b[39;49m A new release of pip is available: \u001b[0m\u001b[31;49m23.2.1\u001b[0m\u001b[39;49m -> \u001b[0m\u001b[32;49m23.3\u001b[0m\n",
      "\u001b[1m[\u001b[0m\u001b[34;49mnotice\u001b[0m\u001b[1;39;49m]\u001b[0m\u001b[39;49m To update, run: \u001b[0m\u001b[32;49mpython -m pip install --upgrade pip\u001b[0m\n"
     ]
    }
   ],
   "source": [
    "!pip install wandb"
   ]
  },
  {
   "cell_type": "code",
   "execution_count": 6,
   "metadata": {},
   "outputs": [
    {
     "name": "stderr",
     "output_type": "stream",
     "text": [
      "Failed to detect the name of this notebook, you can set it manually with the WANDB_NOTEBOOK_NAME environment variable to enable code saving.\n",
      "\u001b[34m\u001b[1mwandb\u001b[0m: Currently logged in as: \u001b[33mvajavorek\u001b[0m. Use \u001b[1m`wandb login --relogin`\u001b[0m to force relogin\n"
     ]
    },
    {
     "data": {
      "text/plain": [
       "True"
      ]
     },
     "execution_count": 6,
     "metadata": {},
     "output_type": "execute_result"
    }
   ],
   "source": [
    "import wandb\n",
    "wandb.login()"
   ]
  },
  {
   "cell_type": "markdown",
   "metadata": {
    "id": "CTnTAj9cgTD8"
   },
   "source": [
    "# Training"
   ]
  },
  {
   "cell_type": "code",
   "execution_count": null,
   "metadata": {
    "id": "iLN2dD7QgUsz"
   },
   "outputs": [
    {
     "name": "stdout",
     "output_type": "stream",
     "text": [
      "date and time = 19/10/2023 12:09:17\n",
      "----------------- Options ---------------\n",
      "               batch_size: 32                            \t[default: 1]\n",
      "                    beta1: 0.5                           \n",
      "          checkpoints_dir: /storage/plzen1/home/javorek/checkpoints/\t[default: ./checkpoints]\n",
      "           continue_train: False                         \n",
      "                crop_size: 256                           \n",
      "                 dataroot: /storage/plzen1/home/javorek/livergan\t[default: None]\n",
      "             dataset_mode: unaligned                     \n",
      "                direction: AtoB                          \n",
      "              display_env: main                          \n",
      "             display_freq: 400                           \n",
      "               display_id: 0                             \t[default: 1]\n",
      "            display_ncols: 4                             \n",
      "             display_port: 8097                          \n",
      "           display_server: http://localhost              \n",
      "          display_winsize: 256                           \n",
      "                    epoch: latest                        \n",
      "              epoch_count: 1                             \n",
      "                 gan_mode: lsgan                         \n",
      "                  gpu_ids: 0,1,2,3                       \t[default: 0]\n",
      "                init_gain: 0.02                          \n",
      "                init_type: normal                        \n",
      "                 input_nc: 3                             \n",
      "                  isTrain: True                          \t[default: None]\n",
      "                 lambda_A: 10.0                          \n",
      "                 lambda_B: 10.0                          \n",
      "          lambda_identity: 0.5                           \n",
      "                load_iter: 0                             \t[default: 0]\n",
      "                load_size: 286                           \n",
      "                       lr: 0.0002                        \n",
      "           lr_decay_iters: 50                            \n",
      "                lr_policy: linear                        \n",
      "         max_dataset_size: inf                           \n",
      "                    model: cycle_gan                     \n",
      "                 n_epochs: 100                           \n",
      "           n_epochs_decay: 100                           \n",
      "               n_layers_D: 3                             \n",
      "                     name: livergan_4gpu                 \t[default: experiment_name]\n",
      "                      ndf: 64                            \n",
      "                     netD: basic                         \n",
      "                     netG: resnet_9blocks                \n",
      "                      ngf: 64                            \n",
      "               no_dropout: True                          \n",
      "                  no_flip: False                         \n",
      "                  no_html: False                         \n",
      "                     norm: instance                      \n",
      "              num_threads: 4                             \n",
      "                output_nc: 3                             \n",
      "                    phase: train                         \n",
      "                pool_size: 50                            \n",
      "               preprocess: resize_and_crop               \n",
      "               print_freq: 100                           \n",
      "             save_by_iter: False                         \n",
      "          save_epoch_freq: 5                             \n",
      "         save_latest_freq: 5000                          \n",
      "           serial_batches: False                         \n",
      "                   suffix:                               \n",
      "         update_html_freq: 1000                          \n",
      "                use_wandb: True                          \t[default: False]\n",
      "                  verbose: False                         \n",
      "       wandb_project_name: livergan                      \t[default: CycleGAN-and-pix2pix]\n",
      "----------------- End -------------------\n",
      "dataset [UnalignedDataset] was created\n",
      "The number of training images = 8569\n",
      "initialize network with normal\n",
      "initialize network with normal\n",
      "initialize network with normal\n",
      "initialize network with normal\n",
      "model [CycleGANModel] was created\n",
      "---------- Networks initialized -------------\n",
      "[Network G_A] Total number of parameters : 11.378 M\n",
      "[Network G_B] Total number of parameters : 11.378 M\n",
      "[Network D_A] Total number of parameters : 2.765 M\n",
      "[Network D_B] Total number of parameters : 2.765 M\n",
      "-----------------------------------------------\n",
      "\u001b[34m\u001b[1mwandb\u001b[0m: Currently logged in as: \u001b[33mvajavorek\u001b[0m. Use \u001b[1m`wandb login --relogin`\u001b[0m to force relogin\n",
      "\u001b[34m\u001b[1mwandb\u001b[0m: Tracking run with wandb version 0.15.12\n",
      "\u001b[34m\u001b[1mwandb\u001b[0m: Run data is saved locally in \u001b[35m\u001b[1m/auto/brno2/home/javorek/pytorch-CycleGAN-and-pix2pix/wandb/run-20231019_120945-6rpafb5g\u001b[0m\n",
      "\u001b[34m\u001b[1mwandb\u001b[0m: Run \u001b[1m`wandb offline`\u001b[0m to turn off syncing.\n",
      "\u001b[34m\u001b[1mwandb\u001b[0m: Syncing run \u001b[33mlivergan_4gpu\u001b[0m\n",
      "\u001b[34m\u001b[1mwandb\u001b[0m: ⭐️ View project at \u001b[34m\u001b[4mhttps://wandb.ai/vajavorek/livergan\u001b[0m\n",
      "\u001b[34m\u001b[1mwandb\u001b[0m: 🚀 View run at \u001b[34m\u001b[4mhttps://wandb.ai/vajavorek/livergan/runs/6rpafb5g\u001b[0m\n",
      "create web directory /storage/plzen1/home/javorek/checkpoints/livergan_4gpu/web...\n",
      "/usr/local/lib/python3.10/dist-packages/torch/optim/lr_scheduler.py:139: UserWarning: Detected call of `lr_scheduler.step()` before `optimizer.step()`. In PyTorch 1.1.0 and later, you should call them in the opposite order: `optimizer.step()` before `lr_scheduler.step()`.  Failure to do this will result in PyTorch skipping the first value of the learning rate schedule. See more details at https://pytorch.org/docs/stable/optim.html#how-to-adjust-learning-rate\n",
      "  warnings.warn(\"Detected call of `lr_scheduler.step()` before `optimizer.step()`. \"\n",
      "learning rate 0.0002000 -> 0.0002000\n",
      "(epoch: 1, iters: 800, time: 0.414, data: 8.189) D_A: 0.687 G_A: 0.835 cycle_A: 1.266 idt_A: 1.893 D_B: 0.490 G_B: 0.564 cycle_B: 3.752 idt_B: 0.630 \n",
      "(epoch: 1, iters: 1600, time: 0.387, data: 0.007) D_A: 0.422 G_A: 0.656 cycle_A: 1.210 idt_A: 1.583 D_B: 0.372 G_B: 0.485 cycle_B: 3.242 idt_B: 0.554 \n",
      "(epoch: 1, iters: 2400, time: 0.369, data: 0.010) D_A: 0.388 G_A: 0.412 cycle_A: 0.854 idt_A: 1.324 D_B: 0.326 G_B: 0.411 cycle_B: 2.720 idt_B: 0.463 \n",
      "(epoch: 1, iters: 3200, time: 0.347, data: 0.010) D_A: 0.341 G_A: 0.413 cycle_A: 0.956 idt_A: 1.345 D_B: 0.285 G_B: 0.563 cycle_B: 2.951 idt_B: 0.481 \n",
      "(epoch: 1, iters: 4000, time: 0.363, data: 0.009) D_A: 0.301 G_A: 0.392 cycle_A: 1.175 idt_A: 1.254 D_B: 1.420 G_B: 1.870 cycle_B: 2.496 idt_B: 0.526 \n",
      "(epoch: 1, iters: 4800, time: 0.346, data: 0.005) D_A: 0.310 G_A: 0.471 cycle_A: 0.909 idt_A: 1.121 D_B: 0.304 G_B: 0.274 cycle_B: 2.276 idt_B: 0.432 \n",
      "(epoch: 1, iters: 5600, time: 0.426, data: 0.011) D_A: 0.467 G_A: 0.668 cycle_A: 0.919 idt_A: 1.133 D_B: 0.301 G_B: 0.322 cycle_B: 2.318 idt_B: 0.461 \n",
      "(epoch: 1, iters: 6400, time: 0.365, data: 0.011) D_A: 0.264 G_A: 0.534 cycle_A: 0.867 idt_A: 1.385 D_B: 0.256 G_B: 0.838 cycle_B: 2.911 idt_B: 0.455 \n",
      "(epoch: 1, iters: 7200, time: 0.348, data: 0.007) D_A: 0.261 G_A: 0.388 cycle_A: 0.772 idt_A: 1.114 D_B: 0.530 G_B: 0.648 cycle_B: 2.265 idt_B: 0.413 \n",
      "(epoch: 1, iters: 8000, time: 0.375, data: 0.010) D_A: 0.442 G_A: 0.594 cycle_A: 0.735 idt_A: 1.027 D_B: 0.235 G_B: 0.479 cycle_B: 2.091 idt_B: 0.373 \n",
      "End of epoch 1 / 200 \t Time Taken: 3105 sec\n",
      "learning rate 0.0002000 -> 0.0002000\n",
      "(epoch: 2, iters: 224, time: 0.444, data: 0.009) D_A: 0.303 G_A: 0.308 cycle_A: 0.733 idt_A: 0.946 D_B: 0.235 G_B: 0.375 cycle_B: 2.103 idt_B: 0.326 \n",
      "(epoch: 2, iters: 1024, time: 0.428, data: 0.009) D_A: 0.219 G_A: 0.383 cycle_A: 0.789 idt_A: 1.073 D_B: 0.258 G_B: 0.585 cycle_B: 2.125 idt_B: 0.401 \n",
      "(epoch: 2, iters: 1824, time: 0.391, data: 0.008) D_A: 0.318 G_A: 0.299 cycle_A: 0.917 idt_A: 1.149 D_B: 0.129 G_B: 0.424 cycle_B: 2.135 idt_B: 0.428 \n",
      "(epoch: 2, iters: 2624, time: 0.355, data: 0.010) D_A: 0.292 G_A: 0.305 cycle_A: 0.769 idt_A: 0.897 D_B: 0.209 G_B: 0.872 cycle_B: 1.924 idt_B: 0.396 \n",
      "(epoch: 2, iters: 3424, time: 0.357, data: 0.006) D_A: 0.266 G_A: 0.304 cycle_A: 0.787 idt_A: 0.902 D_B: 0.121 G_B: 0.558 cycle_B: 1.909 idt_B: 0.396 \n",
      "(epoch: 2, iters: 4224, time: 0.353, data: 0.007) D_A: 0.273 G_A: 0.274 cycle_A: 0.711 idt_A: 0.950 D_B: 0.093 G_B: 0.518 cycle_B: 2.063 idt_B: 0.344 \n",
      "(epoch: 2, iters: 5024, time: 0.368, data: 0.006) D_A: 0.266 G_A: 0.292 cycle_A: 0.826 idt_A: 0.827 D_B: 0.158 G_B: 0.393 cycle_B: 1.735 idt_B: 0.392 \n"
     ]
    },
    {
     "name": "stdout",
     "output_type": "stream",
     "text": [
      "(epoch: 2, iters: 5824, time: 0.365, data: 0.009) D_A: 0.277 G_A: 0.275 cycle_A: 0.737 idt_A: 0.782 D_B: 0.088 G_B: 0.542 cycle_B: 1.781 idt_B: 0.359 \n",
      "(epoch: 2, iters: 6624, time: 0.393, data: 0.010) D_A: 0.265 G_A: 0.268 cycle_A: 0.751 idt_A: 0.781 D_B: 0.098 G_B: 0.506 cycle_B: 1.652 idt_B: 0.380 \n",
      "(epoch: 2, iters: 7424, time: 0.459, data: 0.011) D_A: 0.254 G_A: 0.282 cycle_A: 0.734 idt_A: 0.806 D_B: 0.057 G_B: 0.728 cycle_B: 1.790 idt_B: 0.369 \n",
      "(epoch: 2, iters: 8224, time: 0.440, data: 0.005) D_A: 0.257 G_A: 0.269 cycle_A: 0.718 idt_A: 0.764 D_B: 0.068 G_B: 0.780 cycle_B: 1.595 idt_B: 0.368 \n",
      "End of epoch 2 / 200 \t Time Taken: 3349 sec\n",
      "learning rate 0.0002000 -> 0.0002000\n",
      "(epoch: 3, iters: 448, time: 0.394, data: 0.009) D_A: 0.264 G_A: 0.286 cycle_A: 0.699 idt_A: 0.710 D_B: 0.401 G_B: 0.674 cycle_B: 1.532 idt_B: 0.359 \n",
      "(epoch: 3, iters: 1248, time: 0.412, data: 0.010) D_A: 0.253 G_A: 0.284 cycle_A: 0.750 idt_A: 0.865 D_B: 0.036 G_B: 0.837 cycle_B: 1.915 idt_B: 0.377 \n",
      "(epoch: 3, iters: 2048, time: 0.355, data: 0.010) D_A: 0.259 G_A: 0.255 cycle_A: 0.658 idt_A: 0.837 D_B: 0.040 G_B: 1.062 cycle_B: 1.964 idt_B: 0.332 \n",
      "(epoch: 3, iters: 2848, time: 0.384, data: 0.010) D_A: 0.253 G_A: 0.277 cycle_A: 0.693 idt_A: 0.795 D_B: 0.054 G_B: 0.894 cycle_B: 1.643 idt_B: 0.352 \n",
      "saving the latest model (epoch 3, total_iters 20000)\n",
      "(epoch: 3, iters: 3648, time: 0.360, data: 0.010) D_A: 0.251 G_A: 0.280 cycle_A: 0.702 idt_A: 0.849 D_B: 0.064 G_B: 1.218 cycle_B: 1.961 idt_B: 0.353 \n",
      "(epoch: 3, iters: 4448, time: 0.355, data: 0.006) D_A: 0.299 G_A: 0.373 cycle_A: 0.631 idt_A: 0.713 D_B: 0.030 G_B: 0.781 cycle_B: 1.543 idt_B: 0.300 \n",
      "(epoch: 3, iters: 5248, time: 0.361, data: 0.006) D_A: 0.242 G_A: 0.324 cycle_A: 0.734 idt_A: 0.685 D_B: 0.039 G_B: 0.759 cycle_B: 1.451 idt_B: 0.361 \n",
      "(epoch: 3, iters: 6048, time: 0.383, data: 0.011) D_A: 0.236 G_A: 0.305 cycle_A: 0.667 idt_A: 0.738 D_B: 0.051 G_B: 0.938 cycle_B: 1.488 idt_B: 0.319 \n",
      "(epoch: 3, iters: 6848, time: 0.444, data: 0.011) D_A: 0.240 G_A: 0.309 cycle_A: 0.639 idt_A: 0.724 D_B: 0.024 G_B: 0.886 cycle_B: 1.543 idt_B: 0.308 \n",
      "(epoch: 3, iters: 7648, time: 0.376, data: 0.006) D_A: 0.252 G_A: 0.303 cycle_A: 0.666 idt_A: 0.698 D_B: 0.093 G_B: 0.566 cycle_B: 1.548 idt_B: 0.337 \n",
      "(epoch: 3, iters: 8448, time: 0.358, data: 0.010) D_A: 0.243 G_A: 0.357 cycle_A: 0.769 idt_A: 0.752 D_B: 0.254 G_B: 0.460 cycle_B: 1.908 idt_B: 0.403 \n",
      "End of epoch 3 / 200 \t Time Taken: 3278 sec\n",
      "learning rate 0.0002000 -> 0.0002000\n",
      "(epoch: 4, iters: 672, time: 0.372, data: 0.008) D_A: 0.238 G_A: 0.262 cycle_A: 0.659 idt_A: 0.644 D_B: 0.245 G_B: 0.363 cycle_B: 1.442 idt_B: 0.328 \n",
      "(epoch: 4, iters: 1472, time: 0.458, data: 0.009) D_A: 0.250 G_A: 0.303 cycle_A: 0.600 idt_A: 0.686 D_B: 0.196 G_B: 0.340 cycle_B: 1.619 idt_B: 0.298 \n",
      "(epoch: 4, iters: 2272, time: 0.461, data: 0.011) D_A: 0.226 G_A: 0.300 cycle_A: 0.619 idt_A: 0.664 D_B: 0.210 G_B: 0.173 cycle_B: 1.507 idt_B: 0.312 \n",
      "(epoch: 4, iters: 3072, time: 0.442, data: 0.005) D_A: 0.235 G_A: 0.272 cycle_A: 0.612 idt_A: 0.651 D_B: 0.233 G_B: 0.147 cycle_B: 1.393 idt_B: 0.310 \n",
      "(epoch: 4, iters: 3872, time: 0.351, data: 0.009) D_A: 0.226 G_A: 0.392 cycle_A: 0.609 idt_A: 0.736 D_B: 0.145 G_B: 0.548 cycle_B: 1.565 idt_B: 0.293 \n",
      "(epoch: 4, iters: 4672, time: 0.365, data: 0.009) D_A: 0.232 G_A: 0.307 cycle_A: 0.599 idt_A: 0.648 D_B: 0.359 G_B: 0.057 cycle_B: 1.375 idt_B: 0.281 \n",
      "(epoch: 4, iters: 5472, time: 0.366, data: 0.011) D_A: 0.245 G_A: 0.393 cycle_A: 0.564 idt_A: 0.711 D_B: 0.217 G_B: 0.246 cycle_B: 1.594 idt_B: 0.284 \n",
      "(epoch: 4, iters: 6272, time: 0.376, data: 0.009) D_A: 0.416 G_A: 0.544 cycle_A: 0.607 idt_A: 0.629 D_B: 0.198 G_B: 0.436 cycle_B: 1.361 idt_B: 0.294 \n",
      "(epoch: 4, iters: 7072, time: 0.428, data: 0.009) D_A: 0.231 G_A: 0.260 cycle_A: 0.562 idt_A: 0.601 D_B: 0.224 G_B: 0.248 cycle_B: 1.346 idt_B: 0.276 \n",
      "(epoch: 4, iters: 7872, time: 0.347, data: 0.010) D_A: 0.248 G_A: 0.224 cycle_A: 0.576 idt_A: 0.619 D_B: 0.207 G_B: 0.318 cycle_B: 1.326 idt_B: 0.270 \n",
      "End of epoch 4 / 200 \t Time Taken: 3222 sec\n",
      "learning rate 0.0002000 -> 0.0002000\n",
      "(epoch: 5, iters: 96, time: 0.381, data: 0.011) D_A: 0.340 G_A: 0.444 cycle_A: 0.546 idt_A: 0.624 D_B: 0.343 G_B: 0.064 cycle_B: 1.344 idt_B: 0.268 \n",
      "(epoch: 5, iters: 896, time: 0.342, data: 0.011) D_A: 0.261 G_A: 0.462 cycle_A: 0.608 idt_A: 0.603 D_B: 0.163 G_B: 0.221 cycle_B: 1.348 idt_B: 0.294 \n",
      "(epoch: 5, iters: 1696, time: 0.369, data: 0.010) D_A: 0.216 G_A: 0.252 cycle_A: 0.509 idt_A: 0.607 D_B: 0.711 G_B: 1.721 cycle_B: 1.353 idt_B: 0.245 \n"
     ]
    }
   ],
   "source": [
    "from datetime import datetime\n",
    "now = datetime.now()\n",
    "print(\"date and time =\", now.strftime(\"%d/%m/%Y %H:%M:%S\"))\n",
    "\n",
    "!python train.py --dataroot /storage/plzen1/home/javorek/livergan --name livergan_4gpu --model cycle_gan --gpu_ids 0,1,2,3 --norm instance --checkpoints_dir /storage/plzen1/home/javorek/checkpoints/ --batch_size 32 --preprocess resize_and_crop --n_epochs 100 --display_id 0 --use_wandb --wandb_project_name livergan\n",
    "# default: generátor resnet_9blocks, discriminator basic, instance normalization, dataset unaligned,\n",
    "\n",
    "print(\"date and time =\", now.strftime(\"%d/%m/%Y %H:%M:%S\"))"
   ]
  },
  {
   "cell_type": "code",
   "execution_count": null,
   "metadata": {
    "id": "BnJQR4RRhBWr"
   },
   "outputs": [],
   "source": [
    "# convert checkpoints"
   ]
  },
  {
   "cell_type": "markdown",
   "metadata": {
    "id": "f5gGZm2ChDMd"
   },
   "source": [
    "# Testing"
   ]
  },
  {
   "cell_type": "code",
   "execution_count": null,
   "metadata": {
    "id": "SSA59xsEhFDK"
   },
   "outputs": [],
   "source": [
    "!python test.py --dataroot /storage/plzen1/home/javorek/livergan/testA --name livergan_4gpu --model test --no_dropout --results_dir /storage/plzen1/home/javorek/results/"
   ]
  }
 ],
 "metadata": {
  "colab": {
   "provenance": []
  },
  "kernelspec": {
   "display_name": "Python 3 (ipykernel)",
   "language": "python",
   "name": "python3"
  },
  "language_info": {
   "codemirror_mode": {
    "name": "ipython",
    "version": 3
   },
   "file_extension": ".py",
   "mimetype": "text/x-python",
   "name": "python",
   "nbconvert_exporter": "python",
   "pygments_lexer": "ipython3",
   "version": "3.10.12"
  }
 },
 "nbformat": 4,
 "nbformat_minor": 1
}
