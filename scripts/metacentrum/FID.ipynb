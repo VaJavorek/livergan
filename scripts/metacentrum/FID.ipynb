{
 "cells": [
  {
   "cell_type": "code",
   "execution_count": 1,
   "id": "23cd54a8",
   "metadata": {
    "scrolled": true
   },
   "outputs": [
    {
     "name": "stdout",
     "output_type": "stream",
     "text": [
      "Defaulting to user installation because normal site-packages is not writeable\n",
      "Looking in indexes: https://pypi.org/simple, https://pypi.ngc.nvidia.com\n",
      "Collecting pytorch-fid\n",
      "  Obtaining dependency information for pytorch-fid from https://files.pythonhosted.org/packages/dd/2b/e8c875b9380f34c70d4b5d98deaaa8bcac4922388efad08a72cf129118ee/pytorch_fid-0.3.0-py3-none-any.whl.metadata\n",
      "  Downloading pytorch_fid-0.3.0-py3-none-any.whl.metadata (5.3 kB)\n",
      "Requirement already satisfied: numpy in /usr/local/lib/python3.10/dist-packages (from pytorch-fid) (1.22.2)\n",
      "Requirement already satisfied: pillow in /usr/local/lib/python3.10/dist-packages (from pytorch-fid) (9.2.0)\n",
      "Requirement already satisfied: scipy in /usr/local/lib/python3.10/dist-packages (from pytorch-fid) (1.11.1)\n",
      "Requirement already satisfied: torch>=1.0.1 in /usr/local/lib/python3.10/dist-packages (from pytorch-fid) (2.1.0a0+29c30b1)\n",
      "Requirement already satisfied: torchvision>=0.2.2 in /usr/local/lib/python3.10/dist-packages (from pytorch-fid) (0.16.0a0)\n",
      "Requirement already satisfied: filelock in /usr/local/lib/python3.10/dist-packages (from torch>=1.0.1->pytorch-fid) (3.12.2)\n",
      "Requirement already satisfied: typing-extensions in /usr/local/lib/python3.10/dist-packages (from torch>=1.0.1->pytorch-fid) (4.7.1)\n",
      "Requirement already satisfied: sympy in /usr/local/lib/python3.10/dist-packages (from torch>=1.0.1->pytorch-fid) (1.12)\n",
      "Requirement already satisfied: networkx in ./.local/lib/python3.10/site-packages (from torch>=1.0.1->pytorch-fid) (3.2.1)\n",
      "Requirement already satisfied: jinja2 in /usr/local/lib/python3.10/dist-packages (from torch>=1.0.1->pytorch-fid) (3.1.2)\n",
      "Requirement already satisfied: fsspec in /usr/local/lib/python3.10/dist-packages (from torch>=1.0.1->pytorch-fid) (2023.6.0)\n",
      "Requirement already satisfied: requests in /usr/local/lib/python3.10/dist-packages (from torchvision>=0.2.2->pytorch-fid) (2.31.0)\n",
      "Requirement already satisfied: MarkupSafe>=2.0 in /usr/local/lib/python3.10/dist-packages (from jinja2->torch>=1.0.1->pytorch-fid) (2.1.3)\n",
      "Requirement already satisfied: charset-normalizer<4,>=2 in /usr/local/lib/python3.10/dist-packages (from requests->torchvision>=0.2.2->pytorch-fid) (3.2.0)\n",
      "Requirement already satisfied: idna<4,>=2.5 in /usr/local/lib/python3.10/dist-packages (from requests->torchvision>=0.2.2->pytorch-fid) (3.4)\n",
      "Requirement already satisfied: urllib3<3,>=1.21.1 in /usr/local/lib/python3.10/dist-packages (from requests->torchvision>=0.2.2->pytorch-fid) (1.26.16)\n",
      "Requirement already satisfied: certifi>=2017.4.17 in /usr/local/lib/python3.10/dist-packages (from requests->torchvision>=0.2.2->pytorch-fid) (2023.7.22)\n",
      "Requirement already satisfied: mpmath>=0.19 in /usr/local/lib/python3.10/dist-packages (from sympy->torch>=1.0.1->pytorch-fid) (1.3.0)\n",
      "Downloading pytorch_fid-0.3.0-py3-none-any.whl (15 kB)\n",
      "Installing collected packages: pytorch-fid\n",
      "\u001b[33m  WARNING: The script pytorch-fid is installed in '/storage/brno2/home/javorek/.local/bin' which is not on PATH.\n",
      "  Consider adding this directory to PATH or, if you prefer to suppress this warning, use --no-warn-script-location.\u001b[0m\u001b[33m\n",
      "\u001b[0mSuccessfully installed pytorch-fid-0.3.0\n",
      "\n",
      "\u001b[1m[\u001b[0m\u001b[34;49mnotice\u001b[0m\u001b[1;39;49m]\u001b[0m\u001b[39;49m A new release of pip is available: \u001b[0m\u001b[31;49m23.2.1\u001b[0m\u001b[39;49m -> \u001b[0m\u001b[32;49m24.0\u001b[0m\n",
      "\u001b[1m[\u001b[0m\u001b[34;49mnotice\u001b[0m\u001b[1;39;49m]\u001b[0m\u001b[39;49m To update, run: \u001b[0m\u001b[32;49mpython -m pip install --upgrade pip\u001b[0m\n"
     ]
    }
   ],
   "source": [
    "!pip install pytorch-fid"
   ]
  },
  {
   "cell_type": "markdown",
   "id": "f707b8e2",
   "metadata": {},
   "source": [
    "AtoB"
   ]
  },
  {
   "cell_type": "code",
   "execution_count": 3,
   "id": "4239a84b",
   "metadata": {},
   "outputs": [
    {
     "name": "stdout",
     "output_type": "stream",
     "text": [
      "FID measurement started at  08/03/2024 16:46:36\n",
      "100%|███████████████████████████████████████████| 43/43 [05:09<00:00,  7.19s/it]\n",
      "100%|███████████████████████████████████████████| 10/10 [00:42<00:00,  4.28s/it]\n",
      "FID:  173.49047699324967\n"
     ]
    }
   ],
   "source": [
    "from datetime import datetime\n",
    "a = datetime.now()\n",
    "print(f\"FID measurement started at \", a.strftime(\"%d/%m/%Y %H:%M:%S\"))\n",
    "!python -m pytorch_fid --device cuda:0 /storage/plzen1/home/javorek/inference/livergan_default/AtoB /storage/plzen1/home/javorek/livergan/testB"
   ]
  },
  {
   "cell_type": "markdown",
   "id": "a55aa53d",
   "metadata": {},
   "source": [
    "BtoA"
   ]
  },
  {
   "cell_type": "code",
   "execution_count": 4,
   "id": "f85d04a9",
   "metadata": {},
   "outputs": [
    {
     "name": "stdout",
     "output_type": "stream",
     "text": [
      "FID measurement started at  08/03/2024 16:56:21\n",
      "100%|███████████████████████████████████████████| 10/10 [00:53<00:00,  5.35s/it]\n",
      "100%|███████████████████████████████████████████| 43/43 [02:24<00:00,  3.35s/it]\n",
      "FID:  115.86674752472908\n"
     ]
    }
   ],
   "source": [
    "a = datetime.now()\n",
    "print(f\"FID measurement started at \", a.strftime(\"%d/%m/%Y %H:%M:%S\"))\n",
    "!python -m pytorch_fid --device cuda:0 /storage/plzen1/home/javorek/inference/livergan_default/BtoA /storage/plzen1/home/javorek/livergan/testA"
   ]
  },
  {
   "cell_type": "code",
   "execution_count": null,
   "id": "3929728a",
   "metadata": {},
   "outputs": [],
   "source": []
  },
  {
   "cell_type": "code",
   "execution_count": 1,
   "id": "42d34c44",
   "metadata": {},
   "outputs": [
    {
     "name": "stdout",
     "output_type": "stream",
     "text": [
      "FID measurement started at  13/03/2024 19:01:37\n",
      "100%|█████████████████████████████████████████| 172/172 [16:20<00:00,  5.70s/it]\n",
      "100%|███████████████████████████████████████████| 43/43 [04:05<00:00,  5.71s/it]\n",
      "FID:  3.305319209132108\n"
     ]
    }
   ],
   "source": [
    "from datetime import datetime\n",
    "a = datetime.now()\n",
    "print(f\"FID measurement started at \", a.strftime(\"%d/%m/%Y %H:%M:%S\"))\n",
    "!python -m pytorch_fid --device cuda:0 /storage/plzen1/home/javorek/livergan/trainA /storage/plzen1/home/javorek/livergan/testA"
   ]
  },
  {
   "cell_type": "code",
   "execution_count": 2,
   "id": "451c4f75",
   "metadata": {},
   "outputs": [
    {
     "name": "stdout",
     "output_type": "stream",
     "text": [
      "FID measurement started at  13/03/2024 19:22:21\n",
      "100%|███████████████████████████████████████████| 38/38 [04:00<00:00,  6.33s/it]\n",
      "100%|███████████████████████████████████████████| 10/10 [01:03<00:00,  6.34s/it]\n",
      "FID:  35.44143605662464\n"
     ]
    }
   ],
   "source": [
    "from datetime import datetime\n",
    "a = datetime.now()\n",
    "print(f\"FID measurement started at \", a.strftime(\"%d/%m/%Y %H:%M:%S\"))\n",
    "!python -m pytorch_fid --device cuda:0 /storage/plzen1/home/javorek/livergan/trainB /storage/plzen1/home/javorek/livergan/testB"
   ]
  }
 ],
 "metadata": {
  "kernelspec": {
   "display_name": "Python 3 (ipykernel)",
   "language": "python",
   "name": "python3"
  },
  "language_info": {
   "codemirror_mode": {
    "name": "ipython",
    "version": 3
   },
   "file_extension": ".py",
   "mimetype": "text/x-python",
   "name": "python",
   "nbconvert_exporter": "python",
   "pygments_lexer": "ipython3",
   "version": "3.10.12"
  }
 },
 "nbformat": 4,
 "nbformat_minor": 5
}
