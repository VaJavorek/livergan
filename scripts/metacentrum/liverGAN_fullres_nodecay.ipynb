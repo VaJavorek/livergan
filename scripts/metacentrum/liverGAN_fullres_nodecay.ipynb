{
 "cells": [
  {
   "cell_type": "markdown",
   "metadata": {
    "id": "6AP57z9AfvnP"
   },
   "source": [
    "# Install"
   ]
  },
  {
   "cell_type": "code",
   "execution_count": 1,
   "metadata": {
    "colab": {
     "base_uri": "https://localhost:8080/"
    },
    "id": "NmjlpaNzflFC",
    "outputId": "06f74d9a-2247-4c28-e3ef-64c912cb7a51"
   },
   "outputs": [
    {
     "name": "stdout",
     "output_type": "stream",
     "text": [
      "fatal: destination path 'pytorch-CycleGAN-and-pix2pix' already exists and is not an empty directory.\r\n"
     ]
    }
   ],
   "source": [
    "!git clone https://github.com/junyanz/pytorch-CycleGAN-and-pix2pix"
   ]
  },
  {
   "cell_type": "code",
   "execution_count": 2,
   "metadata": {
    "id": "jKF-dT22fp5-"
   },
   "outputs": [],
   "source": [
    "import os\n",
    "os.chdir('pytorch-CycleGAN-and-pix2pix/')"
   ]
  },
  {
   "cell_type": "code",
   "execution_count": 3,
   "metadata": {
    "colab": {
     "base_uri": "https://localhost:8080/"
    },
    "id": "sP1ZZd5vftMI",
    "outputId": "7e51e813-c106-44b8-f5d5-b5c28d34233e",
    "scrolled": true
   },
   "outputs": [
    {
     "name": "stdout",
     "output_type": "stream",
     "text": [
      "Defaulting to user installation because normal site-packages is not writeable\n",
      "Looking in indexes: https://pypi.org/simple, https://pypi.ngc.nvidia.com\n",
      "Requirement already satisfied: torch>=1.4.0 in /usr/local/lib/python3.10/dist-packages (from -r requirements.txt (line 1)) (2.1.0a0+29c30b1)\n",
      "Requirement already satisfied: torchvision>=0.5.0 in /usr/local/lib/python3.10/dist-packages (from -r requirements.txt (line 2)) (0.16.0a0)\n",
      "Requirement already satisfied: dominate>=2.4.0 in /auto/brno2/home/javorek/.local/lib/python3.10/site-packages (from -r requirements.txt (line 3)) (2.8.0)\n",
      "Requirement already satisfied: visdom>=0.1.8.8 in /auto/brno2/home/javorek/.local/lib/python3.10/site-packages (from -r requirements.txt (line 4)) (0.2.4)\n",
      "Requirement already satisfied: wandb in /auto/brno2/home/javorek/.local/lib/python3.10/site-packages (from -r requirements.txt (line 5)) (0.15.12)\n",
      "Requirement already satisfied: filelock in /usr/local/lib/python3.10/dist-packages (from torch>=1.4.0->-r requirements.txt (line 1)) (3.12.2)\n",
      "Requirement already satisfied: typing-extensions in /usr/local/lib/python3.10/dist-packages (from torch>=1.4.0->-r requirements.txt (line 1)) (4.7.1)\n",
      "Requirement already satisfied: sympy in /usr/local/lib/python3.10/dist-packages (from torch>=1.4.0->-r requirements.txt (line 1)) (1.12)\n",
      "Requirement already satisfied: networkx in /auto/brno2/home/javorek/.local/lib/python3.10/site-packages (from torch>=1.4.0->-r requirements.txt (line 1)) (3.2.1)\n",
      "Requirement already satisfied: jinja2 in /usr/local/lib/python3.10/dist-packages (from torch>=1.4.0->-r requirements.txt (line 1)) (3.1.2)\n",
      "Requirement already satisfied: fsspec in /usr/local/lib/python3.10/dist-packages (from torch>=1.4.0->-r requirements.txt (line 1)) (2023.6.0)\n",
      "Requirement already satisfied: numpy in /usr/local/lib/python3.10/dist-packages (from torchvision>=0.5.0->-r requirements.txt (line 2)) (1.22.2)\n",
      "Requirement already satisfied: requests in /usr/local/lib/python3.10/dist-packages (from torchvision>=0.5.0->-r requirements.txt (line 2)) (2.31.0)\n",
      "Requirement already satisfied: pillow!=8.3.*,>=5.3.0 in /usr/local/lib/python3.10/dist-packages (from torchvision>=0.5.0->-r requirements.txt (line 2)) (9.2.0)\n",
      "Requirement already satisfied: scipy in /usr/local/lib/python3.10/dist-packages (from visdom>=0.1.8.8->-r requirements.txt (line 4)) (1.11.1)\n",
      "Requirement already satisfied: tornado in /usr/local/lib/python3.10/dist-packages (from visdom>=0.1.8.8->-r requirements.txt (line 4)) (6.3.2)\n",
      "Requirement already satisfied: six in /usr/local/lib/python3.10/dist-packages (from visdom>=0.1.8.8->-r requirements.txt (line 4)) (1.16.0)\n",
      "Requirement already satisfied: jsonpatch in /auto/brno2/home/javorek/.local/lib/python3.10/site-packages (from visdom>=0.1.8.8->-r requirements.txt (line 4)) (1.33)\n",
      "Requirement already satisfied: websocket-client in /auto/brno2/home/javorek/.local/lib/python3.10/site-packages (from visdom>=0.1.8.8->-r requirements.txt (line 4)) (1.6.4)\n",
      "Requirement already satisfied: Click!=8.0.0,>=7.1 in /usr/local/lib/python3.10/dist-packages (from wandb->-r requirements.txt (line 5)) (8.1.5)\n",
      "Requirement already satisfied: GitPython!=3.1.29,>=1.0.0 in /auto/brno2/home/javorek/.local/lib/python3.10/site-packages (from wandb->-r requirements.txt (line 5)) (3.1.37)\n",
      "Requirement already satisfied: psutil>=5.0.0 in /usr/local/lib/python3.10/dist-packages (from wandb->-r requirements.txt (line 5)) (5.9.4)\n",
      "Requirement already satisfied: sentry-sdk>=1.0.0 in /auto/brno2/home/javorek/.local/lib/python3.10/site-packages (from wandb->-r requirements.txt (line 5)) (1.32.0)\n",
      "Requirement already satisfied: docker-pycreds>=0.4.0 in /auto/brno2/home/javorek/.local/lib/python3.10/site-packages (from wandb->-r requirements.txt (line 5)) (0.4.0)\n",
      "Requirement already satisfied: PyYAML in /usr/local/lib/python3.10/dist-packages (from wandb->-r requirements.txt (line 5)) (6.0.1)\n",
      "Requirement already satisfied: pathtools in /auto/brno2/home/javorek/.local/lib/python3.10/site-packages (from wandb->-r requirements.txt (line 5)) (0.1.2)\n",
      "Requirement already satisfied: setproctitle in /auto/brno2/home/javorek/.local/lib/python3.10/site-packages (from wandb->-r requirements.txt (line 5)) (1.3.3)\n",
      "Requirement already satisfied: setuptools in /usr/local/lib/python3.10/dist-packages (from wandb->-r requirements.txt (line 5)) (68.0.0)\n",
      "Requirement already satisfied: appdirs>=1.4.3 in /auto/brno2/home/javorek/.local/lib/python3.10/site-packages (from wandb->-r requirements.txt (line 5)) (1.4.4)\n",
      "Requirement already satisfied: protobuf!=4.21.0,<5,>=3.19.0 in /usr/local/lib/python3.10/dist-packages (from wandb->-r requirements.txt (line 5)) (4.21.12)\n",
      "Requirement already satisfied: gitdb<5,>=4.0.1 in /auto/brno2/home/javorek/.local/lib/python3.10/site-packages (from GitPython!=3.1.29,>=1.0.0->wandb->-r requirements.txt (line 5)) (4.0.10)\n",
      "Requirement already satisfied: charset-normalizer<4,>=2 in /usr/local/lib/python3.10/dist-packages (from requests->torchvision>=0.5.0->-r requirements.txt (line 2)) (3.2.0)\n",
      "Requirement already satisfied: idna<4,>=2.5 in /usr/local/lib/python3.10/dist-packages (from requests->torchvision>=0.5.0->-r requirements.txt (line 2)) (3.4)\n",
      "Requirement already satisfied: urllib3<3,>=1.21.1 in /usr/local/lib/python3.10/dist-packages (from requests->torchvision>=0.5.0->-r requirements.txt (line 2)) (1.26.16)\n",
      "Requirement already satisfied: certifi>=2017.4.17 in /usr/local/lib/python3.10/dist-packages (from requests->torchvision>=0.5.0->-r requirements.txt (line 2)) (2023.7.22)\n",
      "Requirement already satisfied: MarkupSafe>=2.0 in /usr/local/lib/python3.10/dist-packages (from jinja2->torch>=1.4.0->-r requirements.txt (line 1)) (2.1.3)\n",
      "Requirement already satisfied: jsonpointer>=1.9 in /auto/brno2/home/javorek/.local/lib/python3.10/site-packages (from jsonpatch->visdom>=0.1.8.8->-r requirements.txt (line 4)) (2.4)\n",
      "Requirement already satisfied: mpmath>=0.19 in /usr/local/lib/python3.10/dist-packages (from sympy->torch>=1.4.0->-r requirements.txt (line 1)) (1.3.0)\n",
      "Requirement already satisfied: smmap<6,>=3.0.1 in /auto/brno2/home/javorek/.local/lib/python3.10/site-packages (from gitdb<5,>=4.0.1->GitPython!=3.1.29,>=1.0.0->wandb->-r requirements.txt (line 5)) (5.0.1)\n",
      "\n",
      "\u001b[1m[\u001b[0m\u001b[34;49mnotice\u001b[0m\u001b[1;39;49m]\u001b[0m\u001b[39;49m A new release of pip is available: \u001b[0m\u001b[31;49m23.2.1\u001b[0m\u001b[39;49m -> \u001b[0m\u001b[32;49m23.3.1\u001b[0m\n",
      "\u001b[1m[\u001b[0m\u001b[34;49mnotice\u001b[0m\u001b[1;39;49m]\u001b[0m\u001b[39;49m To update, run: \u001b[0m\u001b[32;49mpython -m pip install --upgrade pip\u001b[0m\n"
     ]
    }
   ],
   "source": [
    "!pip install -r requirements.txt"
   ]
  },
  {
   "cell_type": "markdown",
   "metadata": {
    "id": "joualwe-f16y"
   },
   "source": [
    "Dataset"
   ]
  },
  {
   "cell_type": "code",
   "execution_count": 4,
   "metadata": {
    "id": "fxBaL4iJf2m_",
    "outputId": "f7349a95-f040-484e-8e6e-567ff6010c20"
   },
   "outputs": [
    {
     "name": "stdout",
     "output_type": "stream",
     "text": [
      "testA  testB  trainA  trainB\r\n"
     ]
    }
   ],
   "source": [
    "!ls /storage/plzen1/home/javorek/livergan"
   ]
  },
  {
   "cell_type": "markdown",
   "metadata": {
    "id": "Ze2OYjZLgAl7"
   },
   "source": [
    "Pretrained model\n",
    "\n",
    "`[apple2orange, orange2apple, summer2winter_yosemite, winter2summer_yosemite, horse2zebra, zebra2horse, monet2photo, style_monet, style_cezanne, style_ukiyoe, style_vangogh, sat2map, map2sat, cityscapes_photo2label, cityscapes_label2photo, facades_photo2label, facades_label2photo, iphone2dslr_flower]`\n"
   ]
  },
  {
   "cell_type": "code",
   "execution_count": 6,
   "metadata": {
    "colab": {
     "base_uri": "https://localhost:8080/"
    },
    "id": "GocGMkW0f6YH",
    "outputId": "5e3885dd-a680-41d1-cf86-b835d812efc3"
   },
   "outputs": [
    {
     "name": "stdout",
     "output_type": "stream",
     "text": [
      "Note: available models are apple2orange, orange2apple, summer2winter_yosemite, winter2summer_yosemite, horse2zebra, zebra2horse, monet2photo, style_monet, style_cezanne, style_ukiyoe, style_vangogh, sat2map, map2sat, cityscapes_photo2label, cityscapes_label2photo, facades_photo2label, facades_label2photo, iphone2dslr_flower\n",
      "Specified [monet2photo]\n",
      "WARNING: timestamping does nothing in combination with -O. See the manual\n",
      "for details.\n",
      "\n",
      "--2023-10-18 23:08:49--  http://efrosgans.eecs.berkeley.edu/cyclegan/pretrained_models/monet2photo.pth\n",
      "Resolving efrosgans.eecs.berkeley.edu (efrosgans.eecs.berkeley.edu)... 128.32.244.190\n",
      "Connecting to efrosgans.eecs.berkeley.edu (efrosgans.eecs.berkeley.edu)|128.32.244.190|:80... connected.\n",
      "HTTP request sent, awaiting response... 200 OK\n",
      "Length: 45575747 (43M)\n",
      "Saving to: ‘./checkpoints/monet2photo_pretrained/latest_net_G.pth’\n",
      "\n",
      "./checkpoints/monet 100%[===================>]  43.46M  12.4MB/s    in 3.7s    \n",
      "\n",
      "2023-10-18 23:08:55 (11.8 MB/s) - ‘./checkpoints/monet2photo_pretrained/latest_net_G.pth’ saved [45575747/45575747]\n",
      "\n"
     ]
    }
   ],
   "source": [
    "!bash ./scripts/download_cyclegan_model.sh monet2photo"
   ]
  },
  {
   "cell_type": "code",
   "execution_count": 5,
   "metadata": {
    "scrolled": true
   },
   "outputs": [
    {
     "name": "stdout",
     "output_type": "stream",
     "text": [
      "Defaulting to user installation because normal site-packages is not writeable\n",
      "Looking in indexes: https://pypi.org/simple, https://pypi.ngc.nvidia.com\n",
      "Requirement already satisfied: wandb in /auto/brno2/home/javorek/.local/lib/python3.10/site-packages (0.15.12)\n",
      "Requirement already satisfied: Click!=8.0.0,>=7.1 in /usr/local/lib/python3.10/dist-packages (from wandb) (8.1.5)\n",
      "Requirement already satisfied: GitPython!=3.1.29,>=1.0.0 in /auto/brno2/home/javorek/.local/lib/python3.10/site-packages (from wandb) (3.1.37)\n",
      "Requirement already satisfied: requests<3,>=2.0.0 in /usr/local/lib/python3.10/dist-packages (from wandb) (2.31.0)\n",
      "Requirement already satisfied: psutil>=5.0.0 in /usr/local/lib/python3.10/dist-packages (from wandb) (5.9.4)\n",
      "Requirement already satisfied: sentry-sdk>=1.0.0 in /auto/brno2/home/javorek/.local/lib/python3.10/site-packages (from wandb) (1.32.0)\n",
      "Requirement already satisfied: docker-pycreds>=0.4.0 in /auto/brno2/home/javorek/.local/lib/python3.10/site-packages (from wandb) (0.4.0)\n",
      "Requirement already satisfied: PyYAML in /usr/local/lib/python3.10/dist-packages (from wandb) (6.0.1)\n",
      "Requirement already satisfied: pathtools in /auto/brno2/home/javorek/.local/lib/python3.10/site-packages (from wandb) (0.1.2)\n",
      "Requirement already satisfied: setproctitle in /auto/brno2/home/javorek/.local/lib/python3.10/site-packages (from wandb) (1.3.3)\n",
      "Requirement already satisfied: setuptools in /usr/local/lib/python3.10/dist-packages (from wandb) (68.0.0)\n",
      "Requirement already satisfied: appdirs>=1.4.3 in /auto/brno2/home/javorek/.local/lib/python3.10/site-packages (from wandb) (1.4.4)\n",
      "Requirement already satisfied: protobuf!=4.21.0,<5,>=3.19.0 in /usr/local/lib/python3.10/dist-packages (from wandb) (4.21.12)\n",
      "Requirement already satisfied: six>=1.4.0 in /usr/local/lib/python3.10/dist-packages (from docker-pycreds>=0.4.0->wandb) (1.16.0)\n",
      "Requirement already satisfied: gitdb<5,>=4.0.1 in /auto/brno2/home/javorek/.local/lib/python3.10/site-packages (from GitPython!=3.1.29,>=1.0.0->wandb) (4.0.10)\n",
      "Requirement already satisfied: charset-normalizer<4,>=2 in /usr/local/lib/python3.10/dist-packages (from requests<3,>=2.0.0->wandb) (3.2.0)\n",
      "Requirement already satisfied: idna<4,>=2.5 in /usr/local/lib/python3.10/dist-packages (from requests<3,>=2.0.0->wandb) (3.4)\n",
      "Requirement already satisfied: urllib3<3,>=1.21.1 in /usr/local/lib/python3.10/dist-packages (from requests<3,>=2.0.0->wandb) (1.26.16)\n",
      "Requirement already satisfied: certifi>=2017.4.17 in /usr/local/lib/python3.10/dist-packages (from requests<3,>=2.0.0->wandb) (2023.7.22)\n",
      "Requirement already satisfied: smmap<6,>=3.0.1 in /auto/brno2/home/javorek/.local/lib/python3.10/site-packages (from gitdb<5,>=4.0.1->GitPython!=3.1.29,>=1.0.0->wandb) (5.0.1)\n",
      "\n",
      "\u001b[1m[\u001b[0m\u001b[34;49mnotice\u001b[0m\u001b[1;39;49m]\u001b[0m\u001b[39;49m A new release of pip is available: \u001b[0m\u001b[31;49m23.2.1\u001b[0m\u001b[39;49m -> \u001b[0m\u001b[32;49m23.3\u001b[0m\n",
      "\u001b[1m[\u001b[0m\u001b[34;49mnotice\u001b[0m\u001b[1;39;49m]\u001b[0m\u001b[39;49m To update, run: \u001b[0m\u001b[32;49mpython -m pip install --upgrade pip\u001b[0m\n"
     ]
    }
   ],
   "source": [
    "!pip install wandb"
   ]
  },
  {
   "cell_type": "code",
   "execution_count": 5,
   "metadata": {},
   "outputs": [
    {
     "name": "stderr",
     "output_type": "stream",
     "text": [
      "Failed to detect the name of this notebook, you can set it manually with the WANDB_NOTEBOOK_NAME environment variable to enable code saving.\n",
      "\u001b[34m\u001b[1mwandb\u001b[0m: Currently logged in as: \u001b[33mvajavorek\u001b[0m. Use \u001b[1m`wandb login --relogin`\u001b[0m to force relogin\n"
     ]
    },
    {
     "data": {
      "text/plain": [
       "True"
      ]
     },
     "execution_count": 5,
     "metadata": {},
     "output_type": "execute_result"
    }
   ],
   "source": [
    "import wandb\n",
    "wandb.login()"
   ]
  },
  {
   "cell_type": "markdown",
   "metadata": {
    "id": "CTnTAj9cgTD8"
   },
   "source": [
    "# Training"
   ]
  },
  {
   "cell_type": "code",
   "execution_count": null,
   "metadata": {
    "id": "iLN2dD7QgUsz",
    "scrolled": false
   },
   "outputs": [
    {
     "name": "stdout",
     "output_type": "stream",
     "text": [
      "date and time = 07/12/2023 01:44:37\n",
      "----------------- Options ---------------\n",
      "               batch_size: 4                             \t[default: 1]\n",
      "                    beta1: 0.5                           \n",
      "          checkpoints_dir: /storage/plzen1/home/javorek/checkpoints/\t[default: ./checkpoints]\n",
      "           continue_train: True                          \t[default: False]\n",
      "                crop_size: 256                           \n",
      "                 dataroot: /storage/plzen1/home/javorek/livergan\t[default: None]\n",
      "             dataset_mode: unaligned                     \n",
      "                direction: AtoB                          \n",
      "              display_env: main                          \n",
      "             display_freq: 400                           \n",
      "               display_id: 0                             \t[default: 1]\n",
      "            display_ncols: 4                             \n",
      "             display_port: 8097                          \n",
      "           display_server: http://localhost              \n",
      "          display_winsize: 256                           \n",
      "                    epoch: latest                        \n",
      "              epoch_count: 109                           \t[default: 1]\n",
      "                 gan_mode: lsgan                         \n",
      "                  gpu_ids: 0,1,2,3                       \t[default: 0]\n",
      "                init_gain: 0.02                          \n",
      "                init_type: normal                        \n",
      "                 input_nc: 3                             \n",
      "                  isTrain: True                          \t[default: None]\n",
      "                 lambda_A: 10.0                          \n",
      "                 lambda_B: 10.0                          \n",
      "          lambda_identity: 0.5                           \n",
      "                load_iter: 0                             \t[default: 0]\n",
      "                load_size: 1000                          \t[default: 286]\n",
      "                       lr: 0.0002                        \n",
      "           lr_decay_iters: 50                            \n",
      "                lr_policy: linear                        \n",
      "         max_dataset_size: inf                           \n",
      "                    model: cycle_gan                     \n",
      "                 n_epochs: 200                           \t[default: 100]\n",
      "           n_epochs_decay: 0                             \t[default: 100]\n",
      "               n_layers_D: 3                             \n",
      "                     name: livergan_fullres_nodecay      \t[default: experiment_name]\n",
      "                      ndf: 64                            \n",
      "                     netD: basic                         \n",
      "                     netG: resnet_9blocks                \n",
      "                      ngf: 64                            \n",
      "               no_dropout: True                          \n",
      "                  no_flip: False                         \n",
      "                  no_html: False                         \n",
      "                     norm: instance                      \n",
      "              num_threads: 4                             \n",
      "                output_nc: 3                             \n",
      "                    phase: train                         \n",
      "                pool_size: 50                            \n",
      "               preprocess: scale_width                   \t[default: resize_and_crop]\n",
      "               print_freq: 100                           \n",
      "             save_by_iter: False                         \n",
      "          save_epoch_freq: 5                             \n",
      "         save_latest_freq: 5000                          \n",
      "           serial_batches: False                         \n",
      "                   suffix:                               \n",
      "         update_html_freq: 1000                          \n",
      "                use_wandb: True                          \t[default: False]\n",
      "                  verbose: False                         \n",
      "       wandb_project_name: livergan                      \t[default: CycleGAN-and-pix2pix]\n",
      "----------------- End -------------------\n",
      "dataset [UnalignedDataset] was created\n",
      "The number of training images = 8569\n",
      "initialize network with normal\n",
      "initialize network with normal\n",
      "initialize network with normal\n",
      "initialize network with normal\n",
      "model [CycleGANModel] was created\n",
      "loading the model from /storage/plzen1/home/javorek/checkpoints/livergan_fullres_nodecay/latest_net_G_A.pth\n",
      "loading the model from /storage/plzen1/home/javorek/checkpoints/livergan_fullres_nodecay/latest_net_G_B.pth\n",
      "loading the model from /storage/plzen1/home/javorek/checkpoints/livergan_fullres_nodecay/latest_net_D_A.pth\n",
      "loading the model from /storage/plzen1/home/javorek/checkpoints/livergan_fullres_nodecay/latest_net_D_B.pth\n",
      "---------- Networks initialized -------------\n",
      "[Network G_A] Total number of parameters : 11.378 M\n",
      "[Network G_B] Total number of parameters : 11.378 M\n",
      "[Network D_A] Total number of parameters : 2.765 M\n",
      "[Network D_B] Total number of parameters : 2.765 M\n",
      "-----------------------------------------------\n",
      "\u001b[34m\u001b[1mwandb\u001b[0m: Currently logged in as: \u001b[33mvajavorek\u001b[0m. Use \u001b[1m`wandb login --relogin`\u001b[0m to force relogin\n",
      "\u001b[34m\u001b[1mwandb\u001b[0m: wandb version 0.16.1 is available!  To upgrade, please run:\n",
      "\u001b[34m\u001b[1mwandb\u001b[0m:  $ pip install wandb --upgrade\n",
      "\u001b[34m\u001b[1mwandb\u001b[0m: Tracking run with wandb version 0.15.12\n",
      "\u001b[34m\u001b[1mwandb\u001b[0m: Run data is saved locally in \u001b[35m\u001b[1m/auto/brno2/home/javorek/pytorch-CycleGAN-and-pix2pix/wandb/run-20231207_014503-7gxdfvrg\u001b[0m\n",
      "\u001b[34m\u001b[1mwandb\u001b[0m: Run \u001b[1m`wandb offline`\u001b[0m to turn off syncing.\n",
      "\u001b[34m\u001b[1mwandb\u001b[0m: Syncing run \u001b[33mlivergan_fullres_nodecay\u001b[0m\n",
      "\u001b[34m\u001b[1mwandb\u001b[0m: ⭐️ View project at \u001b[34m\u001b[4mhttps://wandb.ai/vajavorek/livergan\u001b[0m\n",
      "\u001b[34m\u001b[1mwandb\u001b[0m: 🚀 View run at \u001b[34m\u001b[4mhttps://wandb.ai/vajavorek/livergan/runs/7gxdfvrg\u001b[0m\n",
      "create web directory /storage/plzen1/home/javorek/checkpoints/livergan_fullres_nodecay/web...\n",
      "/usr/local/lib/python3.10/dist-packages/torch/optim/lr_scheduler.py:139: UserWarning: Detected call of `lr_scheduler.step()` before `optimizer.step()`. In PyTorch 1.1.0 and later, you should call them in the opposite order: `optimizer.step()` before `lr_scheduler.step()`.  Failure to do this will result in PyTorch skipping the first value of the learning rate schedule. See more details at https://pytorch.org/docs/stable/optim.html#how-to-adjust-learning-rate\n",
      "  warnings.warn(\"Detected call of `lr_scheduler.step()` before `optimizer.step()`. \"\n",
      "learning rate 0.0002000 -> 0.0002000\n",
      "(epoch: 109, iters: 100, time: 0.532, data: 0.869) D_A: 0.157 G_A: 0.335 cycle_A: 0.158 idt_A: 0.077 D_B: 0.202 G_B: 0.430 cycle_B: 0.258 idt_B: 0.052 \n",
      "(epoch: 109, iters: 200, time: 0.537, data: 0.014) D_A: 0.271 G_A: 0.906 cycle_A: 0.169 idt_A: 0.070 D_B: 0.073 G_B: 0.380 cycle_B: 0.226 idt_B: 0.050 \n",
      "(epoch: 109, iters: 300, time: 0.537, data: 0.015) D_A: 0.170 G_A: 0.376 cycle_A: 0.171 idt_A: 0.130 D_B: 0.075 G_B: 0.520 cycle_B: 0.359 idt_B: 0.053 \n",
      "(epoch: 109, iters: 400, time: 2.491, data: 0.016) D_A: 0.253 G_A: 0.417 cycle_A: 0.188 idt_A: 0.074 D_B: 0.119 G_B: 0.345 cycle_B: 0.244 idt_B: 0.058 \n",
      "(epoch: 109, iters: 500, time: 0.546, data: 0.015) D_A: 0.175 G_A: 0.198 cycle_A: 0.137 idt_A: 0.065 D_B: 0.019 G_B: 0.687 cycle_B: 0.244 idt_B: 0.043 \n",
      "(epoch: 109, iters: 600, time: 0.546, data: 0.016) D_A: 0.174 G_A: 0.435 cycle_A: 0.234 idt_A: 0.078 D_B: 0.141 G_B: 0.611 cycle_B: 0.241 idt_B: 0.071 \n"
     ]
    }
   ],
   "source": [
    "from datetime import datetime\n",
    "now = datetime.now()\n",
    "print(\"date and time =\", now.strftime(\"%d/%m/%Y %H:%M:%S\"))\n",
    "\n",
    "!python train.py --dataroot /storage/plzen1/home/javorek/livergan --name livergan_fullres_nodecay --model cycle_gan --gpu_ids 0,1,2,3 --norm instance --checkpoints_dir /storage/plzen1/home/javorek/checkpoints/ --continue_train --epoch_count 109 --batch_size 4 --preprocess scale_width --load_size 1000 --n_epochs 200 --n_epochs_decay 0 --display_id 0 --use_wandb --wandb_project_name livergan\n",
    "# default: generátor resnet_9blocks, discriminator basic, instance normalization, dataset unaligned,\n",
    "\n",
    "print(\"date and time =\", now.strftime(\"%d/%m/%Y %H:%M:%S\"))"
   ]
  },
  {
   "cell_type": "code",
   "execution_count": null,
   "metadata": {
    "id": "BnJQR4RRhBWr"
   },
   "outputs": [],
   "source": [
    "# convert checkpoints"
   ]
  },
  {
   "cell_type": "markdown",
   "metadata": {
    "id": "f5gGZm2ChDMd"
   },
   "source": [
    "# Testing"
   ]
  },
  {
   "cell_type": "code",
   "execution_count": 6,
   "metadata": {
    "id": "SSA59xsEhFDK"
   },
   "outputs": [
    {
     "name": "stdout",
     "output_type": "stream",
     "text": [
      "----------------- Options ---------------\n",
      "             aspect_ratio: 1.0                           \n",
      "               batch_size: 1                             \n",
      "          checkpoints_dir: /storage/plzen1/home/javorek/checkpoints/\t[default: ./checkpoints]\n",
      "                crop_size: 256                           \n",
      "                 dataroot: /storage/plzen1/home/javorek/livergan/testB\t[default: None]\n",
      "             dataset_mode: single                        \n",
      "                direction: AtoB                          \n",
      "          display_winsize: 256                           \n",
      "                    epoch: latest                        \n",
      "                     eval: False                         \n",
      "                  gpu_ids: 0                             \n",
      "                init_gain: 0.02                          \n",
      "                init_type: normal                        \n",
      "                 input_nc: 3                             \n",
      "                  isTrain: False                         \t[default: None]\n",
      "                load_iter: 0                             \t[default: 0]\n",
      "                load_size: 1000                          \t[default: 256]\n",
      "         max_dataset_size: inf                           \n",
      "                    model: test                          \n",
      "             model_suffix:                               \n",
      "               n_layers_D: 3                             \n",
      "                     name: livergan_fullres_nodecay      \t[default: experiment_name]\n",
      "                      ndf: 64                            \n",
      "                     netD: basic                         \n",
      "                     netG: resnet_9blocks                \n",
      "                      ngf: 64                            \n",
      "               no_dropout: True                          \t[default: False]\n",
      "                  no_flip: False                         \n",
      "                     norm: instance                      \n",
      "                 num_test: 50                            \n",
      "              num_threads: 4                             \n",
      "                output_nc: 3                             \n",
      "                    phase: test                          \n",
      "               preprocess: scale_width                   \t[default: resize_and_crop]\n",
      "              results_dir: /storage/plzen1/home/javorek/results/\t[default: ./results/]\n",
      "           serial_batches: False                         \n",
      "                   suffix:                               \n",
      "                use_wandb: False                         \n",
      "                  verbose: False                         \n",
      "       wandb_project_name: CycleGAN-and-pix2pix          \n",
      "----------------- End -------------------\n",
      "dataset [SingleDataset] was created\n",
      "initialize network with normal\n",
      "model [TestModel] was created\n",
      "loading the model from /storage/plzen1/home/javorek/checkpoints/livergan_fullres_nodecay/latest_net_G.pth\n",
      "---------- Networks initialized -------------\n",
      "[Network G] Total number of parameters : 11.378 M\n",
      "-----------------------------------------------\n",
      "creating web directory /storage/plzen1/home/javorek/results/livergan_fullres_nodecay/test_latest\n",
      "processing (0000)-th image... ['/storage/plzen1/home/javorek/livergan/testB/J10_3_a_split_1033.png']\n",
      "processing (0005)-th image... ['/storage/plzen1/home/javorek/livergan/testB/J10_3_a_split_1163.png']\n",
      "processing (0010)-th image... ['/storage/plzen1/home/javorek/livergan/testB/J10_3_a_split_260.png']\n",
      "processing (0015)-th image... ['/storage/plzen1/home/javorek/livergan/testB/J10_3_a_split_44.png']\n",
      "processing (0020)-th image... ['/storage/plzen1/home/javorek/livergan/testB/J10_3_a_split_990.png']\n",
      "processing (0025)-th image... ['/storage/plzen1/home/javorek/livergan/testB/J10_3_b_split_1166.png']\n",
      "processing (0030)-th image... ['/storage/plzen1/home/javorek/livergan/testB/J10_3_b_split_1253.png']\n",
      "processing (0035)-th image... ['/storage/plzen1/home/javorek/livergan/testB/J10_3_b_split_217.png']\n",
      "processing (0040)-th image... ['/storage/plzen1/home/javorek/livergan/testB/J10_3_b_split_392.png']\n",
      "processing (0045)-th image... ['/storage/plzen1/home/javorek/livergan/testB/J10_3_c_split_1163.png']\n"
     ]
    }
   ],
   "source": [
    "!python test.py --dataroot /storage/plzen1/home/javorek/livergan/testB --name livergan_fullres_nodecay --model test --no_dropout --preprocess scale_width --load_size 1000 --results_dir /storage/plzen1/home/javorek/results/ --checkpoints_dir /storage/plzen1/home/javorek/checkpoints/"
   ]
  },
  {
   "cell_type": "code",
   "execution_count": 10,
   "metadata": {},
   "outputs": [
    {
     "name": "stdout",
     "output_type": "stream",
     "text": [
      "test_opt.txt\r\n"
     ]
    }
   ],
   "source": [
    "!ls ./checkpoints/livergan_fullres_4gpu/"
   ]
  },
  {
   "cell_type": "code",
   "execution_count": 11,
   "metadata": {},
   "outputs": [
    {
     "name": "stdout",
     "output_type": "stream",
     "text": [
      "/auto/brno2/home/javorek/pytorch-CycleGAN-and-pix2pix\r\n"
     ]
    }
   ],
   "source": [
    "!pwd"
   ]
  },
  {
   "cell_type": "code",
   "execution_count": null,
   "metadata": {},
   "outputs": [],
   "source": []
  }
 ],
 "metadata": {
  "colab": {
   "provenance": []
  },
  "kernelspec": {
   "display_name": "Python 3 (ipykernel)",
   "language": "python",
   "name": "python3"
  },
  "language_info": {
   "codemirror_mode": {
    "name": "ipython",
    "version": 3
   },
   "file_extension": ".py",
   "mimetype": "text/x-python",
   "name": "python",
   "nbconvert_exporter": "python",
   "pygments_lexer": "ipython3",
   "version": "3.10.12"
  }
 },
 "nbformat": 4,
 "nbformat_minor": 1
}
