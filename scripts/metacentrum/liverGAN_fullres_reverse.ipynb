{
 "cells": [
  {
   "cell_type": "markdown",
   "metadata": {
    "id": "6AP57z9AfvnP"
   },
   "source": [
    "# Install"
   ]
  },
  {
   "cell_type": "code",
   "execution_count": 1,
   "metadata": {
    "colab": {
     "base_uri": "https://localhost:8080/"
    },
    "id": "NmjlpaNzflFC",
    "outputId": "06f74d9a-2247-4c28-e3ef-64c912cb7a51"
   },
   "outputs": [
    {
     "name": "stdout",
     "output_type": "stream",
     "text": [
      "fatal: destination path 'pytorch-CycleGAN-and-pix2pix' already exists and is not an empty directory.\r\n"
     ]
    }
   ],
   "source": [
    "!git clone https://github.com/junyanz/pytorch-CycleGAN-and-pix2pix"
   ]
  },
  {
   "cell_type": "code",
   "execution_count": 2,
   "metadata": {
    "id": "jKF-dT22fp5-"
   },
   "outputs": [],
   "source": [
    "import os\n",
    "os.chdir('pytorch-CycleGAN-and-pix2pix/')"
   ]
  },
  {
   "cell_type": "code",
   "execution_count": 3,
   "metadata": {
    "colab": {
     "base_uri": "https://localhost:8080/"
    },
    "id": "sP1ZZd5vftMI",
    "outputId": "7e51e813-c106-44b8-f5d5-b5c28d34233e"
   },
   "outputs": [
    {
     "name": "stdout",
     "output_type": "stream",
     "text": [
      "Defaulting to user installation because normal site-packages is not writeable\n",
      "Looking in indexes: https://pypi.org/simple, https://pypi.ngc.nvidia.com\n",
      "Requirement already satisfied: torch>=1.4.0 in /usr/local/lib/python3.10/dist-packages (from -r requirements.txt (line 1)) (2.1.0a0+29c30b1)\n",
      "Requirement already satisfied: torchvision>=0.5.0 in /usr/local/lib/python3.10/dist-packages (from -r requirements.txt (line 2)) (0.16.0a0)\n",
      "Requirement already satisfied: dominate>=2.4.0 in /auto/brno2/home/javorek/.local/lib/python3.10/site-packages (from -r requirements.txt (line 3)) (2.8.0)\n",
      "Requirement already satisfied: visdom>=0.1.8.8 in /auto/brno2/home/javorek/.local/lib/python3.10/site-packages (from -r requirements.txt (line 4)) (0.2.4)\n",
      "Requirement already satisfied: wandb in /auto/brno2/home/javorek/.local/lib/python3.10/site-packages (from -r requirements.txt (line 5)) (0.15.12)\n",
      "Requirement already satisfied: filelock in /usr/local/lib/python3.10/dist-packages (from torch>=1.4.0->-r requirements.txt (line 1)) (3.12.2)\n",
      "Requirement already satisfied: typing-extensions in /usr/local/lib/python3.10/dist-packages (from torch>=1.4.0->-r requirements.txt (line 1)) (4.7.1)\n",
      "Requirement already satisfied: sympy in /usr/local/lib/python3.10/dist-packages (from torch>=1.4.0->-r requirements.txt (line 1)) (1.12)\n",
      "Requirement already satisfied: networkx in /auto/brno2/home/javorek/.local/lib/python3.10/site-packages (from torch>=1.4.0->-r requirements.txt (line 1)) (3.2.1)\n",
      "Requirement already satisfied: jinja2 in /usr/local/lib/python3.10/dist-packages (from torch>=1.4.0->-r requirements.txt (line 1)) (3.1.2)\n",
      "Requirement already satisfied: fsspec in /usr/local/lib/python3.10/dist-packages (from torch>=1.4.0->-r requirements.txt (line 1)) (2023.6.0)\n",
      "Requirement already satisfied: numpy in /usr/local/lib/python3.10/dist-packages (from torchvision>=0.5.0->-r requirements.txt (line 2)) (1.22.2)\n",
      "Requirement already satisfied: requests in /usr/local/lib/python3.10/dist-packages (from torchvision>=0.5.0->-r requirements.txt (line 2)) (2.31.0)\n",
      "Requirement already satisfied: pillow!=8.3.*,>=5.3.0 in /usr/local/lib/python3.10/dist-packages (from torchvision>=0.5.0->-r requirements.txt (line 2)) (9.2.0)\n",
      "Requirement already satisfied: scipy in /usr/local/lib/python3.10/dist-packages (from visdom>=0.1.8.8->-r requirements.txt (line 4)) (1.11.1)\n",
      "Requirement already satisfied: tornado in /usr/local/lib/python3.10/dist-packages (from visdom>=0.1.8.8->-r requirements.txt (line 4)) (6.3.2)\n",
      "Requirement already satisfied: six in /usr/local/lib/python3.10/dist-packages (from visdom>=0.1.8.8->-r requirements.txt (line 4)) (1.16.0)\n",
      "Requirement already satisfied: jsonpatch in /auto/brno2/home/javorek/.local/lib/python3.10/site-packages (from visdom>=0.1.8.8->-r requirements.txt (line 4)) (1.33)\n",
      "Requirement already satisfied: websocket-client in /auto/brno2/home/javorek/.local/lib/python3.10/site-packages (from visdom>=0.1.8.8->-r requirements.txt (line 4)) (1.6.4)\n",
      "Requirement already satisfied: Click!=8.0.0,>=7.1 in /usr/local/lib/python3.10/dist-packages (from wandb->-r requirements.txt (line 5)) (8.1.5)\n",
      "Requirement already satisfied: GitPython!=3.1.29,>=1.0.0 in /auto/brno2/home/javorek/.local/lib/python3.10/site-packages (from wandb->-r requirements.txt (line 5)) (3.1.37)\n",
      "Requirement already satisfied: psutil>=5.0.0 in /usr/local/lib/python3.10/dist-packages (from wandb->-r requirements.txt (line 5)) (5.9.4)\n",
      "Requirement already satisfied: sentry-sdk>=1.0.0 in /auto/brno2/home/javorek/.local/lib/python3.10/site-packages (from wandb->-r requirements.txt (line 5)) (1.32.0)\n",
      "Requirement already satisfied: docker-pycreds>=0.4.0 in /auto/brno2/home/javorek/.local/lib/python3.10/site-packages (from wandb->-r requirements.txt (line 5)) (0.4.0)\n",
      "Requirement already satisfied: PyYAML in /usr/local/lib/python3.10/dist-packages (from wandb->-r requirements.txt (line 5)) (6.0.1)\n",
      "Requirement already satisfied: pathtools in /auto/brno2/home/javorek/.local/lib/python3.10/site-packages (from wandb->-r requirements.txt (line 5)) (0.1.2)\n",
      "Requirement already satisfied: setproctitle in /auto/brno2/home/javorek/.local/lib/python3.10/site-packages (from wandb->-r requirements.txt (line 5)) (1.3.3)\n",
      "Requirement already satisfied: setuptools in /usr/local/lib/python3.10/dist-packages (from wandb->-r requirements.txt (line 5)) (68.0.0)\n",
      "Requirement already satisfied: appdirs>=1.4.3 in /auto/brno2/home/javorek/.local/lib/python3.10/site-packages (from wandb->-r requirements.txt (line 5)) (1.4.4)\n",
      "Requirement already satisfied: protobuf!=4.21.0,<5,>=3.19.0 in /usr/local/lib/python3.10/dist-packages (from wandb->-r requirements.txt (line 5)) (4.21.12)\n",
      "Requirement already satisfied: gitdb<5,>=4.0.1 in /auto/brno2/home/javorek/.local/lib/python3.10/site-packages (from GitPython!=3.1.29,>=1.0.0->wandb->-r requirements.txt (line 5)) (4.0.10)\n",
      "Requirement already satisfied: charset-normalizer<4,>=2 in /usr/local/lib/python3.10/dist-packages (from requests->torchvision>=0.5.0->-r requirements.txt (line 2)) (3.2.0)\n",
      "Requirement already satisfied: idna<4,>=2.5 in /usr/local/lib/python3.10/dist-packages (from requests->torchvision>=0.5.0->-r requirements.txt (line 2)) (3.4)\n",
      "Requirement already satisfied: urllib3<3,>=1.21.1 in /usr/local/lib/python3.10/dist-packages (from requests->torchvision>=0.5.0->-r requirements.txt (line 2)) (1.26.16)\n",
      "Requirement already satisfied: certifi>=2017.4.17 in /usr/local/lib/python3.10/dist-packages (from requests->torchvision>=0.5.0->-r requirements.txt (line 2)) (2023.7.22)\n",
      "Requirement already satisfied: MarkupSafe>=2.0 in /usr/local/lib/python3.10/dist-packages (from jinja2->torch>=1.4.0->-r requirements.txt (line 1)) (2.1.3)\n",
      "Requirement already satisfied: jsonpointer>=1.9 in /auto/brno2/home/javorek/.local/lib/python3.10/site-packages (from jsonpatch->visdom>=0.1.8.8->-r requirements.txt (line 4)) (2.4)\n",
      "Requirement already satisfied: mpmath>=0.19 in /usr/local/lib/python3.10/dist-packages (from sympy->torch>=1.4.0->-r requirements.txt (line 1)) (1.3.0)\n",
      "Requirement already satisfied: smmap<6,>=3.0.1 in /auto/brno2/home/javorek/.local/lib/python3.10/site-packages (from gitdb<5,>=4.0.1->GitPython!=3.1.29,>=1.0.0->wandb->-r requirements.txt (line 5)) (5.0.1)\n",
      "\n",
      "\u001b[1m[\u001b[0m\u001b[34;49mnotice\u001b[0m\u001b[1;39;49m]\u001b[0m\u001b[39;49m A new release of pip is available: \u001b[0m\u001b[31;49m23.2.1\u001b[0m\u001b[39;49m -> \u001b[0m\u001b[32;49m24.0\u001b[0m\n",
      "\u001b[1m[\u001b[0m\u001b[34;49mnotice\u001b[0m\u001b[1;39;49m]\u001b[0m\u001b[39;49m To update, run: \u001b[0m\u001b[32;49mpython -m pip install --upgrade pip\u001b[0m\n"
     ]
    }
   ],
   "source": [
    "!pip install -r requirements.txt"
   ]
  },
  {
   "cell_type": "markdown",
   "metadata": {
    "id": "joualwe-f16y"
   },
   "source": [
    "Dataset"
   ]
  },
  {
   "cell_type": "code",
   "execution_count": 4,
   "metadata": {
    "id": "fxBaL4iJf2m_",
    "outputId": "f7349a95-f040-484e-8e6e-567ff6010c20"
   },
   "outputs": [
    {
     "name": "stdout",
     "output_type": "stream",
     "text": [
      "testA  testB  trainA  trainB\r\n"
     ]
    }
   ],
   "source": [
    "!ls /storage/plzen1/home/javorek/livergan"
   ]
  },
  {
   "cell_type": "markdown",
   "metadata": {
    "id": "Ze2OYjZLgAl7"
   },
   "source": [
    "Pretrained model\n",
    "\n",
    "`[apple2orange, orange2apple, summer2winter_yosemite, winter2summer_yosemite, horse2zebra, zebra2horse, monet2photo, style_monet, style_cezanne, style_ukiyoe, style_vangogh, sat2map, map2sat, cityscapes_photo2label, cityscapes_label2photo, facades_photo2label, facades_label2photo, iphone2dslr_flower]`\n"
   ]
  },
  {
   "cell_type": "code",
   "execution_count": 5,
   "metadata": {},
   "outputs": [
    {
     "name": "stderr",
     "output_type": "stream",
     "text": [
      "Failed to detect the name of this notebook, you can set it manually with the WANDB_NOTEBOOK_NAME environment variable to enable code saving.\n",
      "\u001b[34m\u001b[1mwandb\u001b[0m: Currently logged in as: \u001b[33mvajavorek\u001b[0m. Use \u001b[1m`wandb login --relogin`\u001b[0m to force relogin\n"
     ]
    },
    {
     "data": {
      "text/plain": [
       "True"
      ]
     },
     "execution_count": 5,
     "metadata": {},
     "output_type": "execute_result"
    }
   ],
   "source": [
    "import wandb\n",
    "wandb.login()"
   ]
  },
  {
   "cell_type": "markdown",
   "metadata": {
    "id": "CTnTAj9cgTD8"
   },
   "source": [
    "# Training"
   ]
  },
  {
   "cell_type": "code",
   "execution_count": null,
   "metadata": {
    "id": "iLN2dD7QgUsz",
    "scrolled": false
   },
   "outputs": [
    {
     "name": "stdout",
     "output_type": "stream",
     "text": [
      "date and time = 27/01/2024 22:12:59\n",
      "----------------- Options ---------------\n",
      "               batch_size: 4                             \t[default: 1]\n",
      "                    beta1: 0.5                           \n",
      "          checkpoints_dir: /storage/plzen1/home/javorek/checkpoints/\t[default: ./checkpoints]\n",
      "           continue_train: False                         \n",
      "                crop_size: 256                           \n",
      "                 dataroot: /storage/plzen1/home/javorek/livergan\t[default: None]\n",
      "             dataset_mode: unaligned                     \n",
      "                direction: BtoA                          \t[default: AtoB]\n",
      "              display_env: main                          \n",
      "             display_freq: 400                           \n",
      "               display_id: 0                             \t[default: 1]\n",
      "            display_ncols: 4                             \n",
      "             display_port: 8097                          \n",
      "           display_server: http://localhost              \n",
      "          display_winsize: 256                           \n",
      "                    epoch: latest                        \n",
      "              epoch_count: 1                             \n",
      "                 gan_mode: lsgan                         \n",
      "                  gpu_ids: 0,1,2,3                       \t[default: 0]\n",
      "                init_gain: 0.02                          \n",
      "                init_type: normal                        \n",
      "                 input_nc: 3                             \n",
      "                  isTrain: True                          \t[default: None]\n",
      "                 lambda_A: 10.0                          \n",
      "                 lambda_B: 10.0                          \n",
      "          lambda_identity: 0.5                           \n",
      "                load_iter: 0                             \t[default: 0]\n",
      "                load_size: 1000                          \t[default: 286]\n",
      "                       lr: 0.0002                        \n",
      "           lr_decay_iters: 50                            \n",
      "                lr_policy: linear                        \n",
      "         max_dataset_size: inf                           \n",
      "                    model: cycle_gan                     \n",
      "                 n_epochs: 100                           \n",
      "           n_epochs_decay: 100                           \n",
      "               n_layers_D: 3                             \n",
      "                     name: livergan_fullres_reverse      \t[default: experiment_name]\n",
      "                      ndf: 64                            \n",
      "                     netD: basic                         \n",
      "                     netG: resnet_9blocks                \n",
      "                      ngf: 64                            \n",
      "               no_dropout: True                          \n",
      "                  no_flip: False                         \n",
      "                  no_html: False                         \n",
      "                     norm: instance                      \n",
      "              num_threads: 4                             \n",
      "                output_nc: 3                             \n",
      "                    phase: train                         \n",
      "                pool_size: 50                            \n",
      "               preprocess: scale_width                   \t[default: resize_and_crop]\n",
      "               print_freq: 100                           \n",
      "             save_by_iter: False                         \n",
      "          save_epoch_freq: 5                             \n",
      "         save_latest_freq: 5000                          \n",
      "           serial_batches: False                         \n",
      "                   suffix:                               \n",
      "         update_html_freq: 1000                          \n",
      "                use_wandb: True                          \t[default: False]\n",
      "                  verbose: False                         \n",
      "       wandb_project_name: livergan                      \t[default: CycleGAN-and-pix2pix]\n",
      "----------------- End -------------------\n",
      "dataset [UnalignedDataset] was created\n",
      "The number of training images = 8569\n",
      "initialize network with normal\n",
      "initialize network with normal\n",
      "initialize network with normal\n",
      "initialize network with normal\n",
      "model [CycleGANModel] was created\n",
      "---------- Networks initialized -------------\n",
      "[Network G_A] Total number of parameters : 11.378 M\n",
      "[Network G_B] Total number of parameters : 11.378 M\n",
      "[Network D_A] Total number of parameters : 2.765 M\n",
      "[Network D_B] Total number of parameters : 2.765 M\n",
      "-----------------------------------------------\n",
      "\u001b[34m\u001b[1mwandb\u001b[0m: Currently logged in as: \u001b[33mvajavorek\u001b[0m. Use \u001b[1m`wandb login --relogin`\u001b[0m to force relogin\n",
      "\u001b[34m\u001b[1mwandb\u001b[0m: wandb version 0.16.2 is available!  To upgrade, please run:\n",
      "\u001b[34m\u001b[1mwandb\u001b[0m:  $ pip install wandb --upgrade\n",
      "\u001b[34m\u001b[1mwandb\u001b[0m: Tracking run with wandb version 0.15.12\n",
      "\u001b[34m\u001b[1mwandb\u001b[0m: Run data is saved locally in \u001b[35m\u001b[1m/auto/brno2/home/javorek/pytorch-CycleGAN-and-pix2pix/wandb/run-20240127_221321-dchhl09w\u001b[0m\n",
      "\u001b[34m\u001b[1mwandb\u001b[0m: Run \u001b[1m`wandb offline`\u001b[0m to turn off syncing.\n",
      "\u001b[34m\u001b[1mwandb\u001b[0m: Syncing run \u001b[33mlivergan_fullres_reverse\u001b[0m\n",
      "\u001b[34m\u001b[1mwandb\u001b[0m: ⭐️ View project at \u001b[34m\u001b[4mhttps://wandb.ai/vajavorek/livergan\u001b[0m\n",
      "\u001b[34m\u001b[1mwandb\u001b[0m: 🚀 View run at \u001b[34m\u001b[4mhttps://wandb.ai/vajavorek/livergan/runs/dchhl09w\u001b[0m\n",
      "create web directory /storage/plzen1/home/javorek/checkpoints/livergan_fullres_reverse/web...\n",
      "/usr/local/lib/python3.10/dist-packages/torch/optim/lr_scheduler.py:139: UserWarning: Detected call of `lr_scheduler.step()` before `optimizer.step()`. In PyTorch 1.1.0 and later, you should call them in the opposite order: `optimizer.step()` before `lr_scheduler.step()`.  Failure to do this will result in PyTorch skipping the first value of the learning rate schedule. See more details at https://pytorch.org/docs/stable/optim.html#how-to-adjust-learning-rate\n",
      "  warnings.warn(\"Detected call of `lr_scheduler.step()` before `optimizer.step()`. \"\n",
      "learning rate 0.0002000 -> 0.0002000\n",
      "(epoch: 1, iters: 100, time: 0.530, data: 1.505) D_A: 0.639 G_A: 0.609 cycle_A: 2.262 idt_A: 0.562 D_B: 0.574 G_B: 0.997 cycle_B: 0.970 idt_B: 1.038 \n",
      "(epoch: 1, iters: 200, time: 0.543, data: 0.016) D_A: 0.437 G_A: 0.642 cycle_A: 3.159 idt_A: 0.568 D_B: 0.430 G_B: 0.499 cycle_B: 1.038 idt_B: 1.496 \n",
      "(epoch: 1, iters: 300, time: 0.530, data: 0.014) D_A: 0.382 G_A: 0.423 cycle_A: 3.156 idt_A: 0.427 D_B: 0.401 G_B: 0.450 cycle_B: 0.827 idt_B: 1.255 \n",
      "(epoch: 1, iters: 400, time: 1.899, data: 0.014) D_A: 0.298 G_A: 0.463 cycle_A: 2.124 idt_A: 0.371 D_B: 0.591 G_B: 0.713 cycle_B: 0.731 idt_B: 1.084 \n",
      "(epoch: 1, iters: 500, time: 0.553, data: 0.016) D_A: 0.308 G_A: 0.357 cycle_A: 1.831 idt_A: 0.436 D_B: 1.046 G_B: 1.167 cycle_B: 0.901 idt_B: 0.743 \n",
      "(epoch: 1, iters: 600, time: 0.530, data: 0.013) D_A: 0.237 G_A: 0.288 cycle_A: 2.003 idt_A: 0.411 D_B: 0.314 G_B: 0.327 cycle_B: 0.883 idt_B: 1.105 \n",
      "(epoch: 1, iters: 700, time: 0.529, data: 0.014) D_A: 0.257 G_A: 0.336 cycle_A: 2.189 idt_A: 0.433 D_B: 0.326 G_B: 0.335 cycle_B: 0.781 idt_B: 0.765 \n",
      "(epoch: 1, iters: 800, time: 0.948, data: 0.016) D_A: 0.164 G_A: 0.404 cycle_A: 3.030 idt_A: 0.494 D_B: 0.674 G_B: 0.620 cycle_B: 0.998 idt_B: 1.543 \n",
      "(epoch: 1, iters: 900, time: 0.527, data: 0.015) D_A: 0.189 G_A: 0.396 cycle_A: 2.024 idt_A: 0.367 D_B: 0.186 G_B: 0.349 cycle_B: 0.685 idt_B: 0.984 \n",
      "(epoch: 1, iters: 1000, time: 0.525, data: 0.015) D_A: 0.124 G_A: 0.531 cycle_A: 2.458 idt_A: 0.356 D_B: 0.348 G_B: 0.417 cycle_B: 0.886 idt_B: 1.064 \n",
      "(epoch: 1, iters: 1100, time: 0.527, data: 0.015) D_A: 0.192 G_A: 0.408 cycle_A: 1.414 idt_A: 0.334 D_B: 0.284 G_B: 0.222 cycle_B: 0.671 idt_B: 0.647 \n",
      "(epoch: 1, iters: 1200, time: 0.979, data: 0.016) D_A: 0.177 G_A: 0.433 cycle_A: 1.802 idt_A: 0.447 D_B: 0.177 G_B: 0.355 cycle_B: 0.888 idt_B: 0.858 \n",
      "(epoch: 1, iters: 1300, time: 0.544, data: 0.015) D_A: 0.131 G_A: 0.604 cycle_A: 2.019 idt_A: 0.347 D_B: 0.189 G_B: 0.386 cycle_B: 0.651 idt_B: 0.857 \n",
      "(epoch: 1, iters: 1400, time: 0.528, data: 0.016) D_A: 0.098 G_A: 0.585 cycle_A: 2.202 idt_A: 0.461 D_B: 0.151 G_B: 0.417 cycle_B: 0.970 idt_B: 1.002 \n",
      "(epoch: 1, iters: 1500, time: 0.505, data: 0.015) D_A: 0.069 G_A: 0.646 cycle_A: 1.359 idt_A: 0.399 D_B: 0.196 G_B: 0.381 cycle_B: 0.946 idt_B: 0.602 \n",
      "(epoch: 1, iters: 1600, time: 1.011, data: 0.013) D_A: 0.061 G_A: 0.573 cycle_A: 1.332 idt_A: 0.290 D_B: 0.341 G_B: 0.415 cycle_B: 0.580 idt_B: 0.731 \n"
     ]
    },
    {
     "name": "stdout",
     "output_type": "stream",
     "text": [
      "(epoch: 1, iters: 1700, time: 0.525, data: 0.013) D_A: 0.144 G_A: 0.573 cycle_A: 1.817 idt_A: 0.310 D_B: 0.205 G_B: 0.368 cycle_B: 0.748 idt_B: 0.852 \n",
      "(epoch: 1, iters: 1800, time: 0.529, data: 0.017) D_A: 0.195 G_A: 0.371 cycle_A: 1.493 idt_A: 0.472 D_B: 0.185 G_B: 0.228 cycle_B: 0.884 idt_B: 0.619 \n",
      "(epoch: 1, iters: 1900, time: 0.542, data: 0.015) D_A: 0.287 G_A: 0.296 cycle_A: 1.188 idt_A: 0.273 D_B: 0.269 G_B: 0.266 cycle_B: 0.591 idt_B: 0.564 \n",
      "(epoch: 1, iters: 2000, time: 1.854, data: 0.012) D_A: 0.118 G_A: 0.569 cycle_A: 1.475 idt_A: 0.441 D_B: 0.341 G_B: 0.367 cycle_B: 0.992 idt_B: 0.512 \n",
      "(epoch: 1, iters: 2100, time: 0.547, data: 0.012) D_A: 0.250 G_A: 0.216 cycle_A: 1.586 idt_A: 0.489 D_B: 0.214 G_B: 0.286 cycle_B: 0.892 idt_B: 0.754 \n",
      "(epoch: 1, iters: 2200, time: 0.528, data: 0.016) D_A: 0.122 G_A: 0.568 cycle_A: 1.707 idt_A: 0.340 D_B: 0.204 G_B: 0.507 cycle_B: 0.689 idt_B: 0.726 \n",
      "(epoch: 1, iters: 2300, time: 0.527, data: 0.012) D_A: 0.159 G_A: 0.693 cycle_A: 1.440 idt_A: 0.434 D_B: 0.200 G_B: 0.374 cycle_B: 0.901 idt_B: 0.552 \n",
      "(epoch: 1, iters: 2400, time: 0.968, data: 0.015) D_A: 0.067 G_A: 0.693 cycle_A: 1.088 idt_A: 0.298 D_B: 0.189 G_B: 0.288 cycle_B: 0.639 idt_B: 0.508 \n",
      "(epoch: 1, iters: 2500, time: 0.535, data: 0.013) D_A: 0.099 G_A: 0.517 cycle_A: 1.318 idt_A: 0.358 D_B: 0.232 G_B: 0.377 cycle_B: 0.713 idt_B: 0.692 \n",
      "(epoch: 1, iters: 2600, time: 0.529, data: 0.016) D_A: 0.270 G_A: 0.320 cycle_A: 1.422 idt_A: 0.443 D_B: 0.310 G_B: 0.549 cycle_B: 0.843 idt_B: 0.547 \n",
      "(epoch: 1, iters: 2700, time: 0.520, data: 0.013) D_A: 0.248 G_A: 0.201 cycle_A: 1.238 idt_A: 0.330 D_B: 0.292 G_B: 0.160 cycle_B: 0.680 idt_B: 0.554 \n",
      "(epoch: 1, iters: 2800, time: 1.013, data: 0.013) D_A: 0.211 G_A: 0.186 cycle_A: 1.472 idt_A: 0.278 D_B: 0.272 G_B: 0.308 cycle_B: 0.586 idt_B: 0.686 \n",
      "(epoch: 1, iters: 2900, time: 0.529, data: 0.014) D_A: 0.214 G_A: 0.214 cycle_A: 1.224 idt_A: 0.304 D_B: 0.230 G_B: 0.340 cycle_B: 0.641 idt_B: 0.530 \n",
      "(epoch: 1, iters: 3000, time: 0.528, data: 0.012) D_A: 0.159 G_A: 0.537 cycle_A: 1.131 idt_A: 0.308 D_B: 0.193 G_B: 0.341 cycle_B: 0.658 idt_B: 0.512 \n",
      "(epoch: 1, iters: 3100, time: 0.527, data: 0.015) D_A: 0.133 G_A: 0.500 cycle_A: 1.151 idt_A: 0.431 D_B: 0.200 G_B: 0.324 cycle_B: 0.785 idt_B: 0.557 \n",
      "(epoch: 1, iters: 3200, time: 0.996, data: 0.011) D_A: 0.167 G_A: 0.414 cycle_A: 0.887 idt_A: 0.254 D_B: 0.223 G_B: 0.342 cycle_B: 0.552 idt_B: 0.472 \n"
     ]
    }
   ],
   "source": [
    "from datetime import datetime\n",
    "now = datetime.now()\n",
    "print(\"date and time =\", now.strftime(\"%d/%m/%Y %H:%M:%S\"))\n",
    "\n",
    "!python train.py --dataroot /storage/plzen1/home/javorek/livergan --name livergan_fullres_reverse --model cycle_gan --gpu_ids 0,1,2,3 --norm instance --checkpoints_dir /storage/plzen1/home/javorek/checkpoints/ --batch_size 4 --preprocess scale_width --load_size 1000 --n_epochs 100 --direction BtoA --display_id 0 --use_wandb --wandb_project_name livergan\n",
    "# default: generátor resnet_9blocks, discriminator basic, instance normalization, dataset unaligned,\n",
    "\n",
    "print(\"date and time =\", now.strftime(\"%d/%m/%Y %H:%M:%S\"))"
   ]
  },
  {
   "cell_type": "code",
   "execution_count": null,
   "metadata": {
    "id": "BnJQR4RRhBWr"
   },
   "outputs": [],
   "source": [
    "# convert checkpoints"
   ]
  },
  {
   "cell_type": "markdown",
   "metadata": {
    "id": "f5gGZm2ChDMd"
   },
   "source": [
    "# Testing"
   ]
  },
  {
   "cell_type": "code",
   "execution_count": 7,
   "metadata": {
    "id": "SSA59xsEhFDK"
   },
   "outputs": [
    {
     "name": "stdout",
     "output_type": "stream",
     "text": [
      "----------------- Options ---------------\n",
      "             aspect_ratio: 1.0                           \n",
      "               batch_size: 1                             \n",
      "          checkpoints_dir: /storage/plzen1/home/javorek/checkpoints/\t[default: ./checkpoints]\n",
      "                crop_size: 256                           \n",
      "                 dataroot: /storage/plzen1/home/javorek/livergan/testA\t[default: None]\n",
      "             dataset_mode: single                        \n",
      "                direction: AtoB                          \n",
      "          display_winsize: 256                           \n",
      "                    epoch: latest                        \n",
      "                     eval: False                         \n",
      "                  gpu_ids: 0                             \n",
      "                init_gain: 0.02                          \n",
      "                init_type: normal                        \n",
      "                 input_nc: 3                             \n",
      "                  isTrain: False                         \t[default: None]\n",
      "                load_iter: 0                             \t[default: 0]\n",
      "                load_size: 1000                          \t[default: 256]\n",
      "         max_dataset_size: inf                           \n",
      "                    model: test                          \n",
      "             model_suffix:                               \n",
      "               n_layers_D: 3                             \n",
      "                     name: livergan_fullres_reverse      \t[default: experiment_name]\n",
      "                      ndf: 64                            \n",
      "                     netD: basic                         \n",
      "                     netG: resnet_9blocks                \n",
      "                      ngf: 64                            \n",
      "               no_dropout: True                          \t[default: False]\n",
      "                  no_flip: False                         \n",
      "                     norm: instance                      \n",
      "                 num_test: 50                            \n",
      "              num_threads: 4                             \n",
      "                output_nc: 3                             \n",
      "                    phase: test                          \n",
      "               preprocess: scale_width                   \t[default: resize_and_crop]\n",
      "              results_dir: /storage/plzen1/home/javorek/results/\t[default: ./results/]\n",
      "           serial_batches: False                         \n",
      "                   suffix:                               \n",
      "                use_wandb: False                         \n",
      "                  verbose: False                         \n",
      "       wandb_project_name: CycleGAN-and-pix2pix          \n",
      "----------------- End -------------------\n",
      "dataset [SingleDataset] was created\n",
      "initialize network with normal\n",
      "model [TestModel] was created\n",
      "loading the model from /storage/plzen1/home/javorek/checkpoints/livergan_fullres_reverse/latest_net_G.pth\n",
      "---------- Networks initialized -------------\n",
      "[Network G] Total number of parameters : 11.378 M\n",
      "-----------------------------------------------\n",
      "creating web directory /storage/plzen1/home/javorek/results/livergan_fullres_reverse/test_latest\n",
      "processing (0000)-th image... ['/storage/plzen1/home/javorek/livergan/testA/PIG-002_J-18-0092_HE__-1_split_1000.png']\n",
      "processing (0005)-th image... ['/storage/plzen1/home/javorek/livergan/testA/PIG-002_J-18-0092_HE__-1_split_1023.png']\n",
      "processing (0010)-th image... ['/storage/plzen1/home/javorek/livergan/testA/PIG-002_J-18-0092_HE__-1_split_1046.png']\n",
      "processing (0015)-th image... ['/storage/plzen1/home/javorek/livergan/testA/PIG-002_J-18-0092_HE__-1_split_107.png']\n",
      "processing (0020)-th image... ['/storage/plzen1/home/javorek/livergan/testA/PIG-002_J-18-0092_HE__-1_split_1088.png']\n",
      "processing (0025)-th image... ['/storage/plzen1/home/javorek/livergan/testA/PIG-002_J-18-0092_HE__-1_split_1123.png']\n",
      "processing (0030)-th image... ['/storage/plzen1/home/javorek/livergan/testA/PIG-002_J-18-0092_HE__-1_split_115.png']\n",
      "processing (0035)-th image... ['/storage/plzen1/home/javorek/livergan/testA/PIG-002_J-18-0092_HE__-1_split_1181.png']\n",
      "processing (0040)-th image... ['/storage/plzen1/home/javorek/livergan/testA/PIG-002_J-18-0092_HE__-1_split_1221.png']\n",
      "processing (0045)-th image... ['/storage/plzen1/home/javorek/livergan/testA/PIG-002_J-18-0092_HE__-1_split_1254.png']\n"
     ]
    }
   ],
   "source": [
    "!python test.py --dataroot /storage/plzen1/home/javorek/livergan/testA --name livergan_fullres_reverse --model test --no_dropout --preprocess scale_width --load_size 1000 --results_dir /storage/plzen1/home/javorek/results/ --checkpoints_dir /storage/plzen1/home/javorek/checkpoints/"
   ]
  },
  {
   "cell_type": "code",
   "execution_count": 10,
   "metadata": {},
   "outputs": [
    {
     "name": "stdout",
     "output_type": "stream",
     "text": [
      "test_opt.txt\r\n"
     ]
    }
   ],
   "source": [
    "!ls ./checkpoints/livergan_fullres_4gpu/"
   ]
  },
  {
   "cell_type": "code",
   "execution_count": 11,
   "metadata": {},
   "outputs": [
    {
     "name": "stdout",
     "output_type": "stream",
     "text": [
      "/auto/brno2/home/javorek/pytorch-CycleGAN-and-pix2pix\r\n"
     ]
    }
   ],
   "source": [
    "!pwd"
   ]
  },
  {
   "cell_type": "code",
   "execution_count": null,
   "metadata": {},
   "outputs": [],
   "source": []
  }
 ],
 "metadata": {
  "colab": {
   "provenance": []
  },
  "kernelspec": {
   "display_name": "Python 3 (ipykernel)",
   "language": "python",
   "name": "python3"
  },
  "language_info": {
   "codemirror_mode": {
    "name": "ipython",
    "version": 3
   },
   "file_extension": ".py",
   "mimetype": "text/x-python",
   "name": "python",
   "nbconvert_exporter": "python",
   "pygments_lexer": "ipython3",
   "version": "3.10.12"
  }
 },
 "nbformat": 4,
 "nbformat_minor": 1
}
