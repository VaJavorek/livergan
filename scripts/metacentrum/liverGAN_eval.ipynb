{
 "cells": [
  {
   "cell_type": "code",
   "execution_count": null,
   "metadata": {
    "scrolled": false
   },
   "outputs": [
    {
     "name": "stdout",
     "output_type": "stream",
     "text": [
      "Processing starting...\n",
      "Running: 1/2142 - PIG-003_J-18-0168_HE__-1-4_split_977\n",
      "Running: 2/2142 - PIG-003_J-18-0168_HE__-1-4_split_1228\n",
      "Running: 3/2142 - PIG-003_J-18-0167_HE__f-1_split_628\n",
      "Running: 4/2142 - PIG-002_J-18-0092_HE__-1_split_921\n",
      "Running: 5/2142 - PIG-003_J-18-0166_HE__-1-3_split_1608\n",
      "Running: 6/2142 - PIG-002_J-18-0092_HE__-1_split_1417\n",
      "Running: 7/2142 - PIG-003_J-18-0169_HE__l_split_882\n",
      "Running: 8/2142 - PIG-003_J-18-0168_HE__-1-4_split_1817\n",
      "Running: 9/2142 - PIG-002_J-18-0092_HE__-1_split_407\n",
      "Running: 10/2142 - PIG-002_J-18-0092_HE__-1_split_944\n",
      "Running: 11/2142 - PIG-003_J-18-0170_HE_10min__-2_split_540\n",
      "Running: 12/2142 - PIG-003_J-18-0166_HE__-1-3_split_1254\n",
      "Running: 13/2142 - PIG-003_J-18-0169_HE__l_split_455\n",
      "Running: 14/2142 - PIG-003_J-18-0165_HE__-1-2_split_1368\n",
      "Running: 15/2142 - PIG-003_J-18-0170_HE_split_343\n",
      "Running: 16/2142 - PIG-003_J-18-0169_HE__l_split_1394\n",
      "Running: 17/2142 - PIG-003_J-18-0167_HE__f-1_split_459\n",
      "Running: 18/2142 - PIG-003_J-18-0166_HE__-1-3_split_832\n",
      "Running: 19/2142 - PIG-003_J-18-0166_HE__-1-3_split_1501\n",
      "Running: 20/2142 - PIG-002_J-18-0092_HE__-1_split_1488\n"
     ]
    },
    {
     "name": "stderr",
     "output_type": "stream",
     "text": [
      "/var/tmp/pbs.21415551.meta-pbs.metacentrum.cz/ipykernel_390015/4224650204.py:68: RuntimeWarning: More than 20 figures have been opened. Figures created through the pyplot interface (`matplotlib.pyplot.figure`) are retained until explicitly closed and may consume too much memory. (To control this warning, see the rcParam `figure.max_open_warning`). Consider using `matplotlib.pyplot.close()`.\n",
      "  plt.figure(figsize=(12, 12), dpi=dpi)\n"
     ]
    },
    {
     "name": "stdout",
     "output_type": "stream",
     "text": [
      "Running: 21/2142 - PIG-003_J-18-0167_HE__f-1_split_854\n",
      "Running: 22/2142 - PIG-003_J-18-0170_HE_10min__-2_split_1781\n",
      "Running: 23/2142 - PIG-003_J-18-0168_HE__-1-4_split_967\n",
      "Running: 24/2142 - PIG-002_J-18-0092_HE__-1_split_980\n",
      "Running: 25/2142 - PIG-003_J-18-0170_HE_10min__-2_split_674\n",
      "Running: 26/2142 - PIG-003_J-18-0166_HE__-1-3_split_549\n",
      "Running: 27/2142 - PIG-002_J-18-0092_HE__-1_split_1268\n",
      "Running: 28/2142 - PIG-003_J-18-0165_HE__-1-2_split_884\n",
      "Running: 29/2142 - PIG-003_J-18-0170_HE_10min__-2_split_1802\n",
      "Running: 30/2142 - PIG-002_J-18-0092_HE__-1_split_954\n",
      "Running: 31/2142 - PIG-003_J-18-0166_HE__-1-3_split_674\n",
      "Running: 32/2142 - PIG-003_J-18-0170_HE_10min__-2_split_326\n",
      "Running: 33/2142 - PIG-003_J-18-0168_HE__-1-4_split_382\n",
      "Running: 34/2142 - PIG-003_J-18-0170_HE_split_1102\n",
      "Running: 35/2142 - PIG-002_J-18-0092_HE__-1_split_1834\n",
      "Running: 36/2142 - PIG-003_J-18-0170_HE_10min__-2_split_761\n",
      "Running: 37/2142 - PIG-003_J-18-0165_HE__-1-2_split_1147\n",
      "Running: 38/2142 - PIG-003_J-18-0167_HE__f-1_split_677\n",
      "Running: 39/2142 - PIG-003_J-18-0167_HE__f-1_split_496\n",
      "Running: 40/2142 - PIG-003_J-18-0168_HE__-1-4_split_1616\n",
      "Running: 41/2142 - PIG-003_J-18-0170_HE_10min__-2_split_1253\n",
      "Running: 42/2142 - PIG-003_J-18-0170_HE_split_339\n",
      "Running: 43/2142 - PIG-003_J-18-0168_HE__-1-4_split_1273\n",
      "Running: 44/2142 - PIG-003_J-18-0170_HE_split_1402\n",
      "Running: 45/2142 - PIG-002_J-18-0092_HE__-1_split_1685\n",
      "Running: 46/2142 - PIG-003_J-18-0167_HE__f-1_split_835\n",
      "Running: 47/2142 - PIG-003_J-18-0166_HE__-1-3_split_467\n",
      "Running: 48/2142 - PIG-003_J-18-0170_HE_10min__-2_split_536\n"
     ]
    }
   ],
   "source": [
    "import os\n",
    "import random\n",
    "import matplotlib.pyplot as plt\n",
    "\n",
    "# Path configurations and constants\n",
    "mainpath = \"/storage/plzen1/home/javorek/inference/\"\n",
    "direction = \"AtoB\"\n",
    "base_folders = [\"livergan_fullres_4gpu2\",\n",
    "                \"livergan_fullres_4gpu7\",\n",
    "                \"livergan_summer2winter\"]\n",
    "# direction = \"BtoA\"\n",
    "# base_folders = [\"livergan_fullres_4gpu4\",\n",
    "#                 \"livergan_fullres_4gpu7\",\n",
    "#                 \"livergan_summer2winter\"]\n",
    "dpi = 1200  # High resolution\n",
    "\n",
    "# Folder path setup\n",
    "folder_path = os.path.join(mainpath, \"original\", direction)\n",
    "\n",
    "print(\"Processing starting...\")\n",
    "\n",
    "if os.path.exists(folder_path) and os.path.isdir(folder_path):\n",
    "    filenames_in_folder = [file for file in os.listdir(folder_path) if os.path.isfile(os.path.join(folder_path, file))]\n",
    "\n",
    "filenames_clean = [os.path.splitext(filename)[0] for filename in filenames_in_folder]\n",
    "\n",
    "plt.figure(figsize=(12, 12), dpi=dpi)\n",
    "\n",
    "for j, filename in enumerate(filenames_clean):\n",
    "    print(f\"Running: {j+1}/{len(filenames_clean)} - {filename}\")\n",
    "    \n",
    "    shuffled_folders = ['original'] + random.sample(base_folders, len(base_folders))\n",
    "    \n",
    "    folder_identifiers = {'livergan_summer2winter': 's',\n",
    "                          'livergan_fullres_4gpu2': '2',\n",
    "                          'livergan_fullres_4gpu4': '4',\n",
    "                          'livergan_fullres_4gpu7': '7'}\n",
    "    shuffled = ''.join(folder_identifiers[folder] for folder in shuffled_folders if folder in folder_identifiers)    \n",
    "    \n",
    "    file_paths = []\n",
    "    folder_names = []\n",
    "\n",
    "    for folder in shuffled_folders:\n",
    "        if direction == \"AtoB\":\n",
    "            file_path = os.path.join(mainpath, folder, direction, f\"{'' if folder == 'original' else 'fromA_'}{filename}.png\")\n",
    "        elif direction == \"BtoA\":\n",
    "            file_path = os.path.join(mainpath, folder, direction, f\"{'' if folder == 'original' else 'fromB_'}{filename}.png\")\n",
    "\n",
    "        if os.path.exists(file_path):\n",
    "            file_paths.append(file_path)\n",
    "            folder_names.append(folder)\n",
    "\n",
    "    num_images = len(file_paths)\n",
    "    num_cols = 2\n",
    "    num_rows = (num_images + 1) // num_cols\n",
    "\n",
    "    for i, (file_path, folder_name) in enumerate(zip(file_paths, folder_names), start=1):\n",
    "        ax = plt.subplot(num_rows, num_cols, i)\n",
    "        image = plt.imread(file_path)\n",
    "        plt.imshow(image)\n",
    "        plt.axis('off')\n",
    "        ax.set_title(\"original\" if i == 1 else \"A\" if i == 2 else \"B\" if i == 3 else \"C\", fontsize=14)\n",
    "        ax.axis('off')\n",
    "\n",
    "    plt.tight_layout()\n",
    "    plt.savefig(f'/storage/plzen1/home/javorek/eval/{direction}/{j+1}___{shuffled}_{filename}_.png', dpi=dpi)\n",
    "    plt.clf()\n",
    "    plt.figure(figsize=(12, 12), dpi=dpi)\n",
    "\n",
    "print(\"Processing completed.\")"
   ]
  },
  {
   "cell_type": "code",
   "execution_count": null,
   "metadata": {},
   "outputs": [],
   "source": []
  }
 ],
 "metadata": {
  "colab": {
   "provenance": []
  },
  "kernelspec": {
   "display_name": "Python 3 (ipykernel)",
   "language": "python",
   "name": "python3"
  },
  "language_info": {
   "codemirror_mode": {
    "name": "ipython",
    "version": 3
   },
   "file_extension": ".py",
   "mimetype": "text/x-python",
   "name": "python",
   "nbconvert_exporter": "python",
   "pygments_lexer": "ipython3",
   "version": "3.10.12"
  }
 },
 "nbformat": 4,
 "nbformat_minor": 1
}
