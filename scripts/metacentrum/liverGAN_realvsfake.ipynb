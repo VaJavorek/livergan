{
 "cells": [
  {
   "cell_type": "code",
   "execution_count": null,
   "metadata": {
    "scrolled": false
   },
   "outputs": [
    {
     "name": "stdout",
     "output_type": "stream",
     "text": [
      "Generation progress: [----------------->  ] 90%\r"
     ]
    }
   ],
   "source": [
    "import os\n",
    "import random\n",
    "import matplotlib.pyplot as plt\n",
    "\n",
    "def progress_bar(current, total, bar_length=20):\n",
    "    fraction = current / total\n",
    "\n",
    "    arrow = int(fraction * bar_length - 1) * '-' + '>'\n",
    "    padding = int(bar_length - len(arrow)) * ' '\n",
    "\n",
    "    ending = '\\n' if current == total else '\\r'\n",
    "\n",
    "    print(f'Generation progress: [{arrow}{padding}] {int(fraction*100)}%', end=ending)\n",
    "\n",
    "# Path configurations and constants\n",
    "mainpath = \"/storage/plzen1/home/javorek/\"\n",
    "dpi = 1200  # High resolution\n",
    "\n",
    "direction = \"AtoB\"\n",
    "# direction = \"BtoA\"\n",
    "\n",
    "A_real = [os.path.join(mainpath, \"livergan\", \"testA\", file) for file in os.listdir(os.path.join(mainpath, \"livergan\", \"testA\"))]\n",
    "A_fake = [os.path.join(mainpath, \"inference\", \"livergan_fullres_4gpu7\", \"BtoA\", file) for file in os.listdir(os.path.join(mainpath, \"inference\", \"livergan_fullres_4gpu7\", \"BtoA\"))]\n",
    "B_real = [os.path.join(mainpath, \"livergan\", \"testB\", file) for file in os.listdir(os.path.join(mainpath, \"livergan\", \"testB\"))]\n",
    "B_fake = [os.path.join(mainpath, \"inference\", \"livergan_fullres_4gpu7\", \"AtoB\", file) for file in os.listdir(os.path.join(mainpath, \"inference\", \"livergan_fullres_4gpu7\", \"AtoB\"))]\n",
    "\n",
    "plt.figure(figsize=(12, 7), dpi=dpi)\n",
    "with open(f'/storage/plzen1/home/javorek/realvsfake/realvsfake_{direction}.txt', 'a') as txt:\n",
    "    for i in range(300):\n",
    "        progress_bar(i+1,300)\n",
    "        \n",
    "        # Randomly select which will be real and fake\n",
    "        real = random.choice(['A', 'B'])\n",
    "        \n",
    "        # Pick random images from the datasets\n",
    "        if direction == \"BtoA\":\n",
    "            if real == 'A':\n",
    "                imageA = random.choice(A_real)\n",
    "                A_real.remove(imageA)\n",
    "                imageB = random.choice(A_fake)\n",
    "                A_fake.remove(imageB)\n",
    "            else:\n",
    "                imageA = random.choice(A_fake)\n",
    "                A_fake.remove(imageA)\n",
    "                imageB = random.choice(A_real)\n",
    "                A_real.remove(imageB)\n",
    "        elif direction == \"AtoB\":\n",
    "            if real == 'A':\n",
    "                imageA = random.choice(B_real)\n",
    "                B_real.remove(imageA)\n",
    "                imageB = random.choice(B_fake)\n",
    "                B_fake.remove(imageB)\n",
    "            else:\n",
    "                imageA = random.choice(B_fake)\n",
    "                B_fake.remove(imageA)\n",
    "                imageB = random.choice(B_real)\n",
    "                B_real.remove(imageB)\n",
    "            \n",
    "        # Visualize\n",
    "        ax = plt.subplot(1, 2, 1)\n",
    "        image = plt.imread(imageA)\n",
    "        plt.imshow(image)\n",
    "        plt.axis('off')\n",
    "        ax.set_title(\"A\", fontsize=14)\n",
    "        ax.axis('off')\n",
    "\n",
    "        ax = plt.subplot(1, 2, 2)\n",
    "        image = plt.imread(imageB)\n",
    "        plt.imshow(image)\n",
    "        plt.axis('off')\n",
    "        ax.set_title(\"B\", fontsize=14)\n",
    "        ax.axis('off')\n",
    "        \n",
    "        # Write it down\n",
    "        plt.tight_layout()\n",
    "        plt.savefig(f'/storage/plzen1/home/javorek/realvsfake/{direction}/{i+1}.png', dpi=dpi)\n",
    "        plt.close()\n",
    "\n",
    "        txt.write(f'{i+1} {real} = real, A = {os.path.basename(imageA)}, B = {os.path.basename(imageB)}\\n')\n",
    "\n",
    "        plt.figure(figsize=(12, 7), dpi=dpi)\n",
    "\n",
    "print(\"Processing completed.\")"
   ]
  },
  {
   "cell_type": "code",
   "execution_count": null,
   "metadata": {},
   "outputs": [],
   "source": []
  }
 ],
 "metadata": {
  "colab": {
   "provenance": []
  },
  "kernelspec": {
   "display_name": "Python 3 (ipykernel)",
   "language": "python",
   "name": "python3"
  },
  "language_info": {
   "codemirror_mode": {
    "name": "ipython",
    "version": 3
   },
   "file_extension": ".py",
   "mimetype": "text/x-python",
   "name": "python",
   "nbconvert_exporter": "python",
   "pygments_lexer": "ipython3",
   "version": "3.10.12"
  }
 },
 "nbformat": 4,
 "nbformat_minor": 1
}
