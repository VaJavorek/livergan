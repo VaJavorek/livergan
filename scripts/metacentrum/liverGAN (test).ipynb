{
 "cells": [
  {
   "cell_type": "markdown",
   "metadata": {
    "id": "6AP57z9AfvnP"
   },
   "source": [
    "# Install"
   ]
  },
  {
   "cell_type": "code",
   "execution_count": 1,
   "metadata": {
    "colab": {
     "base_uri": "https://localhost:8080/"
    },
    "id": "NmjlpaNzflFC",
    "outputId": "06f74d9a-2247-4c28-e3ef-64c912cb7a51"
   },
   "outputs": [
    {
     "name": "stdout",
     "output_type": "stream",
     "text": [
      "fatal: destination path 'pytorch-CycleGAN-and-pix2pix' already exists and is not an empty directory.\r\n"
     ]
    }
   ],
   "source": [
    "!git clone https://github.com/junyanz/pytorch-CycleGAN-and-pix2pix"
   ]
  },
  {
   "cell_type": "code",
   "execution_count": 2,
   "metadata": {
    "id": "jKF-dT22fp5-"
   },
   "outputs": [],
   "source": [
    "import os\n",
    "os.chdir('pytorch-CycleGAN-and-pix2pix/')"
   ]
  },
  {
   "cell_type": "code",
   "execution_count": 3,
   "metadata": {
    "colab": {
     "base_uri": "https://localhost:8080/"
    },
    "id": "sP1ZZd5vftMI",
    "outputId": "7e51e813-c106-44b8-f5d5-b5c28d34233e"
   },
   "outputs": [
    {
     "name": "stdout",
     "output_type": "stream",
     "text": [
      "Defaulting to user installation because normal site-packages is not writeable\n",
      "Looking in indexes: https://pypi.org/simple, https://pypi.ngc.nvidia.com\n",
      "Requirement already satisfied: torch>=1.4.0 in /usr/local/lib/python3.10/dist-packages (from -r requirements.txt (line 1)) (2.1.0a0+29c30b1)\n",
      "Requirement already satisfied: torchvision>=0.5.0 in /usr/local/lib/python3.10/dist-packages (from -r requirements.txt (line 2)) (0.16.0a0)\n",
      "Requirement already satisfied: dominate>=2.4.0 in /auto/brno2/home/javorek/.local/lib/python3.10/site-packages (from -r requirements.txt (line 3)) (2.8.0)\n",
      "Requirement already satisfied: visdom>=0.1.8.8 in /auto/brno2/home/javorek/.local/lib/python3.10/site-packages (from -r requirements.txt (line 4)) (0.2.4)\n",
      "Requirement already satisfied: wandb in /auto/brno2/home/javorek/.local/lib/python3.10/site-packages (from -r requirements.txt (line 5)) (0.15.12)\n",
      "Requirement already satisfied: filelock in /usr/local/lib/python3.10/dist-packages (from torch>=1.4.0->-r requirements.txt (line 1)) (3.12.2)\n",
      "Requirement already satisfied: typing-extensions in /usr/local/lib/python3.10/dist-packages (from torch>=1.4.0->-r requirements.txt (line 1)) (4.7.1)\n",
      "Requirement already satisfied: sympy in /usr/local/lib/python3.10/dist-packages (from torch>=1.4.0->-r requirements.txt (line 1)) (1.12)\n",
      "Requirement already satisfied: networkx in /usr/local/lib/python3.10/dist-packages (from torch>=1.4.0->-r requirements.txt (line 1)) (2.6.3)\n",
      "Requirement already satisfied: jinja2 in /usr/local/lib/python3.10/dist-packages (from torch>=1.4.0->-r requirements.txt (line 1)) (3.1.2)\n",
      "Requirement already satisfied: fsspec in /usr/local/lib/python3.10/dist-packages (from torch>=1.4.0->-r requirements.txt (line 1)) (2023.6.0)\n",
      "Requirement already satisfied: numpy in /usr/local/lib/python3.10/dist-packages (from torchvision>=0.5.0->-r requirements.txt (line 2)) (1.22.2)\n",
      "Requirement already satisfied: requests in /usr/local/lib/python3.10/dist-packages (from torchvision>=0.5.0->-r requirements.txt (line 2)) (2.31.0)\n",
      "Requirement already satisfied: pillow!=8.3.*,>=5.3.0 in /usr/local/lib/python3.10/dist-packages (from torchvision>=0.5.0->-r requirements.txt (line 2)) (9.2.0)\n",
      "Requirement already satisfied: scipy in /usr/local/lib/python3.10/dist-packages (from visdom>=0.1.8.8->-r requirements.txt (line 4)) (1.11.1)\n",
      "Requirement already satisfied: tornado in /usr/local/lib/python3.10/dist-packages (from visdom>=0.1.8.8->-r requirements.txt (line 4)) (6.3.2)\n",
      "Requirement already satisfied: six in /usr/local/lib/python3.10/dist-packages (from visdom>=0.1.8.8->-r requirements.txt (line 4)) (1.16.0)\n",
      "Requirement already satisfied: jsonpatch in /auto/brno2/home/javorek/.local/lib/python3.10/site-packages (from visdom>=0.1.8.8->-r requirements.txt (line 4)) (1.33)\n",
      "Requirement already satisfied: websocket-client in /auto/brno2/home/javorek/.local/lib/python3.10/site-packages (from visdom>=0.1.8.8->-r requirements.txt (line 4)) (1.6.4)\n",
      "Requirement already satisfied: Click!=8.0.0,>=7.1 in /usr/local/lib/python3.10/dist-packages (from wandb->-r requirements.txt (line 5)) (8.1.5)\n",
      "Requirement already satisfied: GitPython!=3.1.29,>=1.0.0 in /auto/brno2/home/javorek/.local/lib/python3.10/site-packages (from wandb->-r requirements.txt (line 5)) (3.1.37)\n",
      "Requirement already satisfied: psutil>=5.0.0 in /usr/local/lib/python3.10/dist-packages (from wandb->-r requirements.txt (line 5)) (5.9.4)\n",
      "Requirement already satisfied: sentry-sdk>=1.0.0 in /auto/brno2/home/javorek/.local/lib/python3.10/site-packages (from wandb->-r requirements.txt (line 5)) (1.32.0)\n",
      "Requirement already satisfied: docker-pycreds>=0.4.0 in /auto/brno2/home/javorek/.local/lib/python3.10/site-packages (from wandb->-r requirements.txt (line 5)) (0.4.0)\n",
      "Requirement already satisfied: PyYAML in /usr/local/lib/python3.10/dist-packages (from wandb->-r requirements.txt (line 5)) (6.0.1)\n",
      "Requirement already satisfied: pathtools in /auto/brno2/home/javorek/.local/lib/python3.10/site-packages (from wandb->-r requirements.txt (line 5)) (0.1.2)\n",
      "Requirement already satisfied: setproctitle in /auto/brno2/home/javorek/.local/lib/python3.10/site-packages (from wandb->-r requirements.txt (line 5)) (1.3.3)\n",
      "Requirement already satisfied: setuptools in /usr/local/lib/python3.10/dist-packages (from wandb->-r requirements.txt (line 5)) (68.0.0)\n",
      "Requirement already satisfied: appdirs>=1.4.3 in /auto/brno2/home/javorek/.local/lib/python3.10/site-packages (from wandb->-r requirements.txt (line 5)) (1.4.4)\n",
      "Requirement already satisfied: protobuf!=4.21.0,<5,>=3.19.0 in /usr/local/lib/python3.10/dist-packages (from wandb->-r requirements.txt (line 5)) (4.21.12)\n",
      "Requirement already satisfied: gitdb<5,>=4.0.1 in /auto/brno2/home/javorek/.local/lib/python3.10/site-packages (from GitPython!=3.1.29,>=1.0.0->wandb->-r requirements.txt (line 5)) (4.0.10)\n",
      "Requirement already satisfied: charset-normalizer<4,>=2 in /usr/local/lib/python3.10/dist-packages (from requests->torchvision>=0.5.0->-r requirements.txt (line 2)) (3.2.0)\n",
      "Requirement already satisfied: idna<4,>=2.5 in /usr/local/lib/python3.10/dist-packages (from requests->torchvision>=0.5.0->-r requirements.txt (line 2)) (3.4)\n",
      "Requirement already satisfied: urllib3<3,>=1.21.1 in /usr/local/lib/python3.10/dist-packages (from requests->torchvision>=0.5.0->-r requirements.txt (line 2)) (1.26.16)\n",
      "Requirement already satisfied: certifi>=2017.4.17 in /usr/local/lib/python3.10/dist-packages (from requests->torchvision>=0.5.0->-r requirements.txt (line 2)) (2023.7.22)\n",
      "Requirement already satisfied: MarkupSafe>=2.0 in /usr/local/lib/python3.10/dist-packages (from jinja2->torch>=1.4.0->-r requirements.txt (line 1)) (2.1.3)\n",
      "Requirement already satisfied: jsonpointer>=1.9 in /auto/brno2/home/javorek/.local/lib/python3.10/site-packages (from jsonpatch->visdom>=0.1.8.8->-r requirements.txt (line 4)) (2.4)\n",
      "Requirement already satisfied: mpmath>=0.19 in /usr/local/lib/python3.10/dist-packages (from sympy->torch>=1.4.0->-r requirements.txt (line 1)) (1.3.0)\n",
      "Requirement already satisfied: smmap<6,>=3.0.1 in /auto/brno2/home/javorek/.local/lib/python3.10/site-packages (from gitdb<5,>=4.0.1->GitPython!=3.1.29,>=1.0.0->wandb->-r requirements.txt (line 5)) (5.0.1)\n",
      "\n",
      "\u001b[1m[\u001b[0m\u001b[34;49mnotice\u001b[0m\u001b[1;39;49m]\u001b[0m\u001b[39;49m A new release of pip is available: \u001b[0m\u001b[31;49m23.2.1\u001b[0m\u001b[39;49m -> \u001b[0m\u001b[32;49m23.3\u001b[0m\n",
      "\u001b[1m[\u001b[0m\u001b[34;49mnotice\u001b[0m\u001b[1;39;49m]\u001b[0m\u001b[39;49m To update, run: \u001b[0m\u001b[32;49mpython -m pip install --upgrade pip\u001b[0m\n"
     ]
    }
   ],
   "source": [
    "!pip install -r requirements.txt"
   ]
  },
  {
   "cell_type": "markdown",
   "metadata": {
    "id": "joualwe-f16y"
   },
   "source": [
    "Dataset"
   ]
  },
  {
   "cell_type": "code",
   "execution_count": 4,
   "metadata": {
    "id": "fxBaL4iJf2m_",
    "outputId": "f7349a95-f040-484e-8e6e-567ff6010c20"
   },
   "outputs": [
    {
     "name": "stdout",
     "output_type": "stream",
     "text": [
      "testA  testB  trainA  trainB\r\n"
     ]
    }
   ],
   "source": [
    "!ls /storage/plzen1/home/javorek/livergan"
   ]
  },
  {
   "cell_type": "markdown",
   "metadata": {
    "id": "Ze2OYjZLgAl7"
   },
   "source": [
    "Pretrained model\n",
    "\n",
    "`[apple2orange, orange2apple, summer2winter_yosemite, winter2summer_yosemite, horse2zebra, zebra2horse, monet2photo, style_monet, style_cezanne, style_ukiyoe, style_vangogh, sat2map, map2sat, cityscapes_photo2label, cityscapes_label2photo, facades_photo2label, facades_label2photo, iphone2dslr_flower]`\n"
   ]
  },
  {
   "cell_type": "code",
   "execution_count": 5,
   "metadata": {
    "colab": {
     "base_uri": "https://localhost:8080/"
    },
    "id": "GocGMkW0f6YH",
    "outputId": "5e3885dd-a680-41d1-cf86-b835d812efc3"
   },
   "outputs": [
    {
     "name": "stdout",
     "output_type": "stream",
     "text": [
      "Note: available models are apple2orange, orange2apple, summer2winter_yosemite, winter2summer_yosemite, horse2zebra, zebra2horse, monet2photo, style_monet, style_cezanne, style_ukiyoe, style_vangogh, sat2map, map2sat, cityscapes_photo2label, cityscapes_label2photo, facades_photo2label, facades_label2photo, iphone2dslr_flower\n",
      "Specified [monet2photo]\n",
      "WARNING: timestamping does nothing in combination with -O. See the manual\n",
      "for details.\n",
      "\n",
      "--2023-10-16 17:13:51--  http://efrosgans.eecs.berkeley.edu/cyclegan/pretrained_models/monet2photo.pth\n",
      "Resolving efrosgans.eecs.berkeley.edu (efrosgans.eecs.berkeley.edu)... 128.32.244.190\n",
      "Connecting to efrosgans.eecs.berkeley.edu (efrosgans.eecs.berkeley.edu)|128.32.244.190|:80... connected.\n",
      "HTTP request sent, awaiting response... 200 OK\n",
      "Length: 45575747 (43M)\n",
      "Saving to: ‘./checkpoints/monet2photo_pretrained/latest_net_G.pth’\n",
      "\n",
      "./checkpoints/monet 100%[===================>]  43.46M  12.8MB/s    in 3.6s    \n",
      "\n",
      "2023-10-16 17:13:57 (12.2 MB/s) - ‘./checkpoints/monet2photo_pretrained/latest_net_G.pth’ saved [45575747/45575747]\n",
      "\n"
     ]
    }
   ],
   "source": [
    "!bash ./scripts/download_cyclegan_model.sh monet2photo"
   ]
  },
  {
   "cell_type": "markdown",
   "metadata": {
    "id": "CTnTAj9cgTD8"
   },
   "source": [
    "# Training"
   ]
  },
  {
   "cell_type": "code",
   "execution_count": 6,
   "metadata": {
    "id": "iLN2dD7QgUsz"
   },
   "outputs": [
    {
     "name": "stdout",
     "output_type": "stream",
     "text": [
      "----------------- Options ---------------\n",
      "               batch_size: 1                             \n",
      "                    beta1: 0.5                           \n",
      "          checkpoints_dir: ./checkpoints                 \n",
      "           continue_train: False                         \n",
      "                crop_size: 256                           \n",
      "                 dataroot: /storage/plzen1/home/javorek/livergan\t[default: None]\n",
      "             dataset_mode: unaligned                     \n",
      "                direction: AtoB                          \n",
      "              display_env: main                          \n",
      "             display_freq: 400                           \n",
      "               display_id: 1                             \n",
      "            display_ncols: 4                             \n",
      "             display_port: 8097                          \n",
      "           display_server: http://localhost              \n",
      "          display_winsize: 256                           \n",
      "                    epoch: latest                        \n",
      "              epoch_count: 1                             \n",
      "                 gan_mode: lsgan                         \n",
      "                  gpu_ids: 0                             \n",
      "                init_gain: 0.02                          \n",
      "                init_type: normal                        \n",
      "                 input_nc: 3                             \n",
      "                  isTrain: True                          \t[default: None]\n",
      "                 lambda_A: 10.0                          \n",
      "                 lambda_B: 10.0                          \n",
      "          lambda_identity: 0.5                           \n",
      "                load_iter: 0                             \t[default: 0]\n",
      "                load_size: 286                           \n",
      "                       lr: 0.0002                        \n",
      "           lr_decay_iters: 50                            \n",
      "                lr_policy: linear                        \n",
      "         max_dataset_size: inf                           \n",
      "                    model: cycle_gan                     \n",
      "                 n_epochs: 100                           \n",
      "           n_epochs_decay: 100                           \n",
      "               n_layers_D: 3                             \n",
      "                     name: livergan                      \t[default: experiment_name]\n",
      "                      ndf: 64                            \n",
      "                     netD: basic                         \n",
      "                     netG: resnet_9blocks                \n",
      "                      ngf: 64                            \n",
      "               no_dropout: True                          \n",
      "                  no_flip: False                         \n",
      "                  no_html: False                         \n",
      "                     norm: instance                      \n",
      "              num_threads: 4                             \n",
      "                output_nc: 3                             \n",
      "                    phase: train                         \n",
      "                pool_size: 50                            \n",
      "               preprocess: resize_and_crop               \n",
      "               print_freq: 100                           \n",
      "             save_by_iter: False                         \n",
      "          save_epoch_freq: 5                             \n",
      "         save_latest_freq: 5000                          \n",
      "           serial_batches: False                         \n",
      "                   suffix:                               \n",
      "         update_html_freq: 1000                          \n",
      "                use_wandb: False                         \n",
      "                  verbose: False                         \n",
      "       wandb_project_name: CycleGAN-and-pix2pix          \n",
      "----------------- End -------------------\n",
      "dataset [UnalignedDataset] was created\n",
      "/usr/local/lib/python3.10/dist-packages/torch/utils/data/dataloader.py:560: UserWarning: This DataLoader will create 4 worker processes in total. Our suggested max number of worker in current system is 2, which is smaller than what this DataLoader is going to create. Please be aware that excessive worker creation might get DataLoader running slow or even freeze, lower the worker number to avoid potential slowness/freeze if necessary.\n",
      "  warnings.warn(_create_warning_msg(\n",
      "The number of training images = 8569\n",
      "initialize network with normal\n",
      "initialize network with normal\n",
      "initialize network with normal\n",
      "initialize network with normal\n",
      "model [CycleGANModel] was created\n",
      "---------- Networks initialized -------------\n",
      "[Network G_A] Total number of parameters : 11.378 M\n",
      "[Network G_B] Total number of parameters : 11.378 M\n",
      "[Network D_A] Total number of parameters : 2.765 M\n",
      "[Network D_B] Total number of parameters : 2.765 M\n",
      "-----------------------------------------------\n",
      "Setting up a new session...\n",
      "Exception in user code:\n",
      "------------------------------------------------------------\n",
      "Traceback (most recent call last):\n",
      "  File \"/usr/local/lib/python3.10/dist-packages/urllib3/connection.py\", line 174, in _new_conn\n",
      "    conn = connection.create_connection(\n",
      "  File \"/usr/local/lib/python3.10/dist-packages/urllib3/util/connection.py\", line 95, in create_connection\n",
      "    raise err\n",
      "  File \"/usr/local/lib/python3.10/dist-packages/urllib3/util/connection.py\", line 85, in create_connection\n",
      "    sock.connect(sa)\n",
      "ConnectionRefusedError: [Errno 111] Connection refused\n",
      "\n",
      "During handling of the above exception, another exception occurred:\n",
      "\n",
      "Traceback (most recent call last):\n",
      "  File \"/usr/local/lib/python3.10/dist-packages/urllib3/connectionpool.py\", line 714, in urlopen\n",
      "    httplib_response = self._make_request(\n",
      "  File \"/usr/local/lib/python3.10/dist-packages/urllib3/connectionpool.py\", line 415, in _make_request\n",
      "    conn.request(method, url, **httplib_request_kw)\n",
      "  File \"/usr/local/lib/python3.10/dist-packages/urllib3/connection.py\", line 244, in request\n",
      "    super(HTTPConnection, self).request(method, url, body=body, headers=headers)\n",
      "  File \"/usr/lib/python3.10/http/client.py\", line 1283, in request\n",
      "    self._send_request(method, url, body, headers, encode_chunked)\n",
      "  File \"/usr/lib/python3.10/http/client.py\", line 1329, in _send_request\n",
      "    self.endheaders(body, encode_chunked=encode_chunked)\n",
      "  File \"/usr/lib/python3.10/http/client.py\", line 1278, in endheaders\n",
      "    self._send_output(message_body, encode_chunked=encode_chunked)\n",
      "  File \"/usr/lib/python3.10/http/client.py\", line 1038, in _send_output\n",
      "    self.send(msg)\n",
      "  File \"/usr/lib/python3.10/http/client.py\", line 976, in send\n",
      "    self.connect()\n",
      "  File \"/usr/local/lib/python3.10/dist-packages/urllib3/connection.py\", line 205, in connect\n",
      "    conn = self._new_conn()\n",
      "  File \"/usr/local/lib/python3.10/dist-packages/urllib3/connection.py\", line 186, in _new_conn\n",
      "    raise NewConnectionError(\n",
      "urllib3.exceptions.NewConnectionError: <urllib3.connection.HTTPConnection object at 0x14756cc34940>: Failed to establish a new connection: [Errno 111] Connection refused\n",
      "\n",
      "During handling of the above exception, another exception occurred:\n",
      "\n",
      "Traceback (most recent call last):\n",
      "  File \"/usr/local/lib/python3.10/dist-packages/requests/adapters.py\", line 486, in send\n",
      "    resp = conn.urlopen(\n",
      "  File \"/usr/local/lib/python3.10/dist-packages/urllib3/connectionpool.py\", line 798, in urlopen\n",
      "    retries = retries.increment(\n",
      "  File \"/usr/local/lib/python3.10/dist-packages/urllib3/util/retry.py\", line 592, in increment\n",
      "    raise MaxRetryError(_pool, url, error or ResponseError(cause))\n",
      "urllib3.exceptions.MaxRetryError: HTTPConnectionPool(host='localhost', port=8097): Max retries exceeded with url: /env/main (Caused by NewConnectionError('<urllib3.connection.HTTPConnection object at 0x14756cc34940>: Failed to establish a new connection: [Errno 111] Connection refused'))\n",
      "\n",
      "During handling of the above exception, another exception occurred:\n",
      "\n",
      "Traceback (most recent call last):\n",
      "  File \"/storage/brno2/home/javorek/.local/lib/python3.10/site-packages/visdom/__init__.py\", line 756, in _send\n",
      "    return self._handle_post(\n",
      "  File \"/storage/brno2/home/javorek/.local/lib/python3.10/site-packages/visdom/__init__.py\", line 720, in _handle_post\n",
      "    r = self.session.post(url, data=data)\n",
      "  File \"/usr/local/lib/python3.10/dist-packages/requests/sessions.py\", line 637, in post\n",
      "    return self.request(\"POST\", url, data=data, json=json, **kwargs)\n",
      "  File \"/usr/local/lib/python3.10/dist-packages/requests/sessions.py\", line 589, in request\n",
      "    resp = self.send(prep, **send_kwargs)\n",
      "  File \"/usr/local/lib/python3.10/dist-packages/requests/sessions.py\", line 703, in send\n",
      "    r = adapter.send(request, **kwargs)\n",
      "  File \"/usr/local/lib/python3.10/dist-packages/requests/adapters.py\", line 519, in send\n",
      "    raise ConnectionError(e, request=request)\n",
      "requests.exceptions.ConnectionError: HTTPConnectionPool(host='localhost', port=8097): Max retries exceeded with url: /env/main (Caused by NewConnectionError('<urllib3.connection.HTTPConnection object at 0x14756cc34940>: Failed to establish a new connection: [Errno 111] Connection refused'))\n",
      "[Errno 111] Connection refused\n",
      "Visdom.setup_socket.<locals>.on_close() takes 1 positional argument but 3 were given\n",
      "\n",
      "\n",
      "Could not connect to Visdom server. \n",
      " Trying to start a server....\n",
      "Command: /usr/bin/python -m visdom.server -p 8097 &>/dev/null &\n",
      "create web directory ./checkpoints/livergan/web...\n",
      "/usr/local/lib/python3.10/dist-packages/torch/optim/lr_scheduler.py:139: UserWarning: Detected call of `lr_scheduler.step()` before `optimizer.step()`. In PyTorch 1.1.0 and later, you should call them in the opposite order: `optimizer.step()` before `lr_scheduler.step()`.  Failure to do this will result in PyTorch skipping the first value of the learning rate schedule. See more details at https://pytorch.org/docs/stable/optim.html#how-to-adjust-learning-rate\n",
      "  warnings.warn(\"Detected call of `lr_scheduler.step()` before `optimizer.step()`. \"\n",
      "learning rate 0.0002000 -> 0.0002000\n",
      "(epoch: 1, iters: 100, time: 0.139, data: 1.113) D_A: 0.468 G_A: 0.513 cycle_A: 0.947 idt_A: 1.415 D_B: 0.354 G_B: 0.523 cycle_B: 2.861 idt_B: 0.500 \n",
      "(epoch: 1, iters: 200, time: 0.146, data: 0.001) D_A: 0.174 G_A: 0.214 cycle_A: 1.055 idt_A: 1.324 D_B: 0.300 G_B: 0.562 cycle_B: 3.254 idt_B: 0.977 \n",
      "(epoch: 1, iters: 300, time: 0.137, data: 0.001) D_A: 0.247 G_A: 0.297 cycle_A: 0.839 idt_A: 2.475 D_B: 0.223 G_B: 0.911 cycle_B: 5.364 idt_B: 0.395 \n",
      "(epoch: 1, iters: 400, time: 0.390, data: 0.000) D_A: 0.315 G_A: 0.360 cycle_A: 0.841 idt_A: 0.999 D_B: 0.122 G_B: 0.492 cycle_B: 2.377 idt_B: 0.426 \n",
      "(epoch: 1, iters: 500, time: 0.140, data: 0.001) D_A: 0.216 G_A: 0.414 cycle_A: 0.698 idt_A: 1.562 D_B: 0.084 G_B: 0.729 cycle_B: 2.763 idt_B: 0.276 \n",
      "(epoch: 1, iters: 600, time: 0.139, data: 0.001) D_A: 0.104 G_A: 0.505 cycle_A: 0.601 idt_A: 1.211 D_B: 0.360 G_B: 0.106 cycle_B: 2.394 idt_B: 0.341 \n",
      "(epoch: 1, iters: 700, time: 0.140, data: 0.002) D_A: 0.238 G_A: 0.822 cycle_A: 0.705 idt_A: 1.177 D_B: 0.198 G_B: 0.276 cycle_B: 2.527 idt_B: 0.318 \n",
      "(epoch: 1, iters: 800, time: 0.243, data: 0.001) D_A: 0.232 G_A: 0.345 cycle_A: 0.648 idt_A: 0.794 D_B: 0.055 G_B: 0.228 cycle_B: 1.807 idt_B: 0.292 \n",
      "(epoch: 1, iters: 900, time: 0.140, data: 0.001) D_A: 0.219 G_A: 0.312 cycle_A: 0.802 idt_A: 1.864 D_B: 0.135 G_B: 0.416 cycle_B: 3.429 idt_B: 0.411 \n",
      "(epoch: 1, iters: 1000, time: 0.140, data: 0.001) D_A: 0.421 G_A: 0.503 cycle_A: 1.414 idt_A: 1.128 D_B: 0.238 G_B: 0.493 cycle_B: 2.484 idt_B: 0.689 \n",
      "(epoch: 1, iters: 1100, time: 0.148, data: 0.001) D_A: 0.243 G_A: 0.321 cycle_A: 0.727 idt_A: 0.838 D_B: 0.072 G_B: 0.243 cycle_B: 1.834 idt_B: 0.308 \n",
      "(epoch: 1, iters: 1200, time: 0.251, data: 0.001) D_A: 0.231 G_A: 0.585 cycle_A: 0.892 idt_A: 0.902 D_B: 0.362 G_B: 0.197 cycle_B: 1.990 idt_B: 0.499 \n",
      "(epoch: 1, iters: 1300, time: 0.141, data: 0.001) D_A: 0.213 G_A: 0.136 cycle_A: 0.759 idt_A: 1.042 D_B: 0.118 G_B: 0.039 cycle_B: 2.767 idt_B: 0.303 \n",
      "(epoch: 1, iters: 1400, time: 0.145, data: 0.001) D_A: 0.299 G_A: 0.272 cycle_A: 0.700 idt_A: 1.032 D_B: 0.073 G_B: 0.345 cycle_B: 2.575 idt_B: 0.315 \n",
      "(epoch: 1, iters: 1500, time: 0.140, data: 0.001) D_A: 0.097 G_A: 0.386 cycle_A: 0.681 idt_A: 2.069 D_B: 0.041 G_B: 0.266 cycle_B: 4.046 idt_B: 0.457 \n",
      "(epoch: 1, iters: 1600, time: 0.245, data: 0.001) D_A: 0.176 G_A: 0.069 cycle_A: 0.638 idt_A: 0.830 D_B: 0.114 G_B: 0.571 cycle_B: 1.961 idt_B: 0.430 \n",
      "(epoch: 1, iters: 1700, time: 0.139, data: 0.001) D_A: 0.181 G_A: 0.289 cycle_A: 0.725 idt_A: 0.836 D_B: 0.055 G_B: 0.352 cycle_B: 1.959 idt_B: 0.369 \n",
      "(epoch: 1, iters: 1800, time: 0.140, data: 0.001) D_A: 0.233 G_A: 0.316 cycle_A: 0.661 idt_A: 0.648 D_B: 0.229 G_B: 0.869 cycle_B: 1.441 idt_B: 0.317 \n",
      "(epoch: 1, iters: 1900, time: 0.140, data: 0.001) D_A: 0.191 G_A: 0.314 cycle_A: 0.834 idt_A: 0.738 D_B: 0.085 G_B: 0.510 cycle_B: 1.639 idt_B: 0.422 \n",
      "(epoch: 1, iters: 2000, time: 0.388, data: 0.001) D_A: 0.195 G_A: 0.250 cycle_A: 0.638 idt_A: 0.670 D_B: 0.070 G_B: 0.282 cycle_B: 1.687 idt_B: 0.301 \n",
      "(epoch: 1, iters: 2100, time: 0.140, data: 0.001) D_A: 0.168 G_A: 0.334 cycle_A: 0.601 idt_A: 0.811 D_B: 0.113 G_B: 0.298 cycle_B: 1.838 idt_B: 0.296 \n",
      "(epoch: 1, iters: 2200, time: 0.140, data: 0.001) D_A: 0.263 G_A: 0.381 cycle_A: 0.765 idt_A: 0.763 D_B: 0.232 G_B: 0.150 cycle_B: 1.581 idt_B: 0.335 \n",
      "(epoch: 1, iters: 2300, time: 0.140, data: 0.001) D_A: 0.276 G_A: 0.160 cycle_A: 1.806 idt_A: 0.645 D_B: 0.053 G_B: 0.130 cycle_B: 1.482 idt_B: 0.688 \n",
      "(epoch: 1, iters: 2400, time: 0.251, data: 0.002) D_A: 0.329 G_A: 0.154 cycle_A: 0.529 idt_A: 0.741 D_B: 0.322 G_B: 0.088 cycle_B: 1.784 idt_B: 0.251 \n",
      "(epoch: 1, iters: 2500, time: 0.140, data: 0.001) D_A: 0.423 G_A: 0.957 cycle_A: 0.702 idt_A: 0.982 D_B: 0.256 G_B: 0.147 cycle_B: 2.158 idt_B: 0.300 \n",
      "(epoch: 1, iters: 2600, time: 0.139, data: 0.001) D_A: 0.111 G_A: 0.324 cycle_A: 0.817 idt_A: 0.779 D_B: 0.448 G_B: 0.025 cycle_B: 1.824 idt_B: 0.445 \n",
      "(epoch: 1, iters: 2700, time: 0.143, data: 0.001) D_A: 0.234 G_A: 0.453 cycle_A: 1.295 idt_A: 0.544 D_B: 0.033 G_B: 0.361 cycle_B: 1.261 idt_B: 0.547 \n",
      "(epoch: 1, iters: 2800, time: 0.255, data: 0.001) D_A: 0.208 G_A: 0.316 cycle_A: 0.701 idt_A: 1.008 D_B: 0.097 G_B: 0.100 cycle_B: 2.372 idt_B: 0.315 \n",
      "(epoch: 1, iters: 2900, time: 0.140, data: 0.001) D_A: 0.307 G_A: 0.157 cycle_A: 0.596 idt_A: 0.629 D_B: 0.229 G_B: 0.214 cycle_B: 1.530 idt_B: 0.248 \n",
      "(epoch: 1, iters: 3000, time: 0.140, data: 0.001) D_A: 0.245 G_A: 0.405 cycle_A: 0.682 idt_A: 0.717 D_B: 0.238 G_B: 0.381 cycle_B: 2.167 idt_B: 0.337 \n",
      "(epoch: 1, iters: 3100, time: 0.140, data: 0.001) D_A: 0.247 G_A: 0.338 cycle_A: 0.726 idt_A: 0.824 D_B: 0.140 G_B: 0.331 cycle_B: 1.610 idt_B: 0.314 \n",
      "(epoch: 1, iters: 3200, time: 0.252, data: 0.001) D_A: 0.222 G_A: 0.410 cycle_A: 0.735 idt_A: 0.790 D_B: 0.178 G_B: 0.276 cycle_B: 2.209 idt_B: 0.293 \n",
      "(epoch: 1, iters: 3300, time: 0.140, data: 0.001) D_A: 0.324 G_A: 0.430 cycle_A: 0.699 idt_A: 1.179 D_B: 0.301 G_B: 0.112 cycle_B: 2.848 idt_B: 0.301 \n",
      "(epoch: 1, iters: 3400, time: 0.139, data: 0.001) D_A: 0.140 G_A: 0.370 cycle_A: 1.522 idt_A: 0.804 D_B: 0.120 G_B: 0.451 cycle_B: 1.856 idt_B: 0.647 \n",
      "(epoch: 1, iters: 3500, time: 0.139, data: 0.001) D_A: 0.259 G_A: 0.159 cycle_A: 0.687 idt_A: 1.058 D_B: 0.168 G_B: 0.419 cycle_B: 2.032 idt_B: 0.318 \n",
      "(epoch: 1, iters: 3600, time: 0.248, data: 0.001) D_A: 0.134 G_A: 0.192 cycle_A: 0.833 idt_A: 0.775 D_B: 0.383 G_B: 0.029 cycle_B: 2.185 idt_B: 0.310 \n",
      "(epoch: 1, iters: 3700, time: 0.140, data: 0.001) D_A: 0.107 G_A: 0.372 cycle_A: 0.525 idt_A: 0.642 D_B: 0.222 G_B: 0.182 cycle_B: 1.430 idt_B: 0.219 \n",
      "(epoch: 1, iters: 3800, time: 0.140, data: 0.001) D_A: 0.277 G_A: 0.322 cycle_A: 0.766 idt_A: 0.554 D_B: 0.187 G_B: 0.354 cycle_B: 1.426 idt_B: 0.390 \n",
      "(epoch: 1, iters: 3900, time: 0.139, data: 0.001) D_A: 0.247 G_A: 0.212 cycle_A: 0.817 idt_A: 0.577 D_B: 0.220 G_B: 0.214 cycle_B: 1.324 idt_B: 0.297 \n",
      "(epoch: 1, iters: 4000, time: 0.446, data: 0.001) D_A: 0.247 G_A: 0.672 cycle_A: 1.053 idt_A: 0.659 D_B: 0.233 G_B: 0.301 cycle_B: 1.630 idt_B: 0.508 \n",
      "(epoch: 1, iters: 4100, time: 0.140, data: 0.001) D_A: 0.295 G_A: 0.585 cycle_A: 0.586 idt_A: 0.684 D_B: 0.267 G_B: 0.303 cycle_B: 1.621 idt_B: 0.296 \n",
      "(epoch: 1, iters: 4200, time: 0.140, data: 0.001) D_A: 0.170 G_A: 0.149 cycle_A: 0.661 idt_A: 0.697 D_B: 0.203 G_B: 0.871 cycle_B: 1.393 idt_B: 0.266 \n",
      "(epoch: 1, iters: 4300, time: 0.140, data: 0.001) D_A: 0.443 G_A: 0.324 cycle_A: 1.016 idt_A: 0.574 D_B: 0.200 G_B: 0.299 cycle_B: 1.231 idt_B: 0.486 \n",
      "(epoch: 1, iters: 4400, time: 0.253, data: 0.001) D_A: 0.154 G_A: 0.418 cycle_A: 0.553 idt_A: 1.006 D_B: 0.303 G_B: 0.072 cycle_B: 2.623 idt_B: 0.250 \n",
      "(epoch: 1, iters: 4500, time: 0.134, data: 0.002) D_A: 0.190 G_A: 0.288 cycle_A: 1.372 idt_A: 0.726 D_B: 0.091 G_B: 0.567 cycle_B: 1.614 idt_B: 0.590 \n",
      "(epoch: 1, iters: 4600, time: 0.139, data: 0.001) D_A: 0.219 G_A: 0.386 cycle_A: 0.635 idt_A: 0.610 D_B: 0.162 G_B: 0.196 cycle_B: 1.598 idt_B: 0.257 \n",
      "(epoch: 1, iters: 4700, time: 0.140, data: 0.001) D_A: 0.039 G_A: 0.233 cycle_A: 0.508 idt_A: 0.637 D_B: 0.114 G_B: 0.686 cycle_B: 1.477 idt_B: 0.192 \n",
      "(epoch: 1, iters: 4800, time: 0.254, data: 0.001) D_A: 0.191 G_A: 0.212 cycle_A: 0.460 idt_A: 0.558 D_B: 0.145 G_B: 0.083 cycle_B: 1.361 idt_B: 0.218 \n",
      "(epoch: 1, iters: 4900, time: 0.140, data: 0.001) D_A: 0.518 G_A: 0.060 cycle_A: 1.085 idt_A: 0.576 D_B: 0.074 G_B: 0.432 cycle_B: 1.395 idt_B: 0.461 \n",
      "(epoch: 1, iters: 5000, time: 0.140, data: 0.001) D_A: 0.283 G_A: 0.498 cycle_A: 0.660 idt_A: 0.605 D_B: 0.206 G_B: 0.259 cycle_B: 1.606 idt_B: 0.301 \n",
      "saving the latest model (epoch 1, total_iters 5000)\n",
      "(epoch: 1, iters: 5100, time: 0.136, data: 0.001) D_A: 0.279 G_A: 0.113 cycle_A: 0.447 idt_A: 0.564 D_B: 0.272 G_B: 0.118 cycle_B: 1.339 idt_B: 0.209 \n",
      "(epoch: 1, iters: 5200, time: 0.244, data: 0.001) D_A: 0.255 G_A: 0.291 cycle_A: 0.508 idt_A: 1.686 D_B: 0.159 G_B: 0.914 cycle_B: 6.602 idt_B: 0.235 \n",
      "(epoch: 1, iters: 5300, time: 0.141, data: 0.001) D_A: 0.324 G_A: 0.154 cycle_A: 0.899 idt_A: 0.514 D_B: 0.182 G_B: 0.485 cycle_B: 1.306 idt_B: 0.448 \n",
      "(epoch: 1, iters: 5400, time: 0.151, data: 0.001) D_A: 0.160 G_A: 0.184 cycle_A: 0.531 idt_A: 0.622 D_B: 0.174 G_B: 0.161 cycle_B: 1.296 idt_B: 0.213 \n",
      "(epoch: 1, iters: 5500, time: 0.151, data: 0.001) D_A: 0.136 G_A: 0.414 cycle_A: 0.473 idt_A: 0.498 D_B: 0.178 G_B: 0.381 cycle_B: 1.169 idt_B: 0.225 \n",
      "(epoch: 1, iters: 5600, time: 0.243, data: 0.002) D_A: 0.151 G_A: 0.445 cycle_A: 0.582 idt_A: 0.598 D_B: 0.145 G_B: 0.452 cycle_B: 1.837 idt_B: 0.248 \n",
      "(epoch: 1, iters: 5700, time: 0.140, data: 0.001) D_A: 0.325 G_A: 0.235 cycle_A: 1.090 idt_A: 0.597 D_B: 0.100 G_B: 0.749 cycle_B: 1.616 idt_B: 0.558 \n",
      "(epoch: 1, iters: 5800, time: 0.139, data: 0.001) D_A: 0.130 G_A: 0.193 cycle_A: 0.763 idt_A: 0.520 D_B: 0.197 G_B: 0.356 cycle_B: 1.564 idt_B: 0.343 \n",
      "(epoch: 1, iters: 5900, time: 0.140, data: 0.001) D_A: 0.122 G_A: 0.468 cycle_A: 0.779 idt_A: 0.551 D_B: 0.228 G_B: 0.133 cycle_B: 1.703 idt_B: 0.329 \n",
      "(epoch: 1, iters: 6000, time: 0.406, data: 0.001) D_A: 0.174 G_A: 0.463 cycle_A: 0.507 idt_A: 0.611 D_B: 0.060 G_B: 0.195 cycle_B: 1.544 idt_B: 0.273 \n",
      "(epoch: 1, iters: 6100, time: 0.140, data: 0.001) D_A: 0.199 G_A: 0.290 cycle_A: 0.744 idt_A: 0.661 D_B: 0.311 G_B: 0.194 cycle_B: 1.519 idt_B: 0.272 \n",
      "(epoch: 1, iters: 6200, time: 0.140, data: 0.001) D_A: 0.142 G_A: 0.600 cycle_A: 0.690 idt_A: 0.600 D_B: 0.067 G_B: 0.441 cycle_B: 1.483 idt_B: 0.334 \n",
      "(epoch: 1, iters: 6300, time: 0.139, data: 0.001) D_A: 0.091 G_A: 0.310 cycle_A: 0.561 idt_A: 0.504 D_B: 0.204 G_B: 0.476 cycle_B: 1.247 idt_B: 0.260 \n",
      "(epoch: 1, iters: 6400, time: 0.256, data: 0.001) D_A: 0.111 G_A: 0.110 cycle_A: 0.441 idt_A: 0.703 D_B: 0.225 G_B: 0.495 cycle_B: 1.694 idt_B: 0.175 \n",
      "(epoch: 1, iters: 6500, time: 0.140, data: 0.001) D_A: 0.305 G_A: 0.127 cycle_A: 0.367 idt_A: 0.525 D_B: 0.222 G_B: 0.392 cycle_B: 1.239 idt_B: 0.155 \n",
      "(epoch: 1, iters: 6600, time: 0.140, data: 0.001) D_A: 0.214 G_A: 0.684 cycle_A: 0.821 idt_A: 0.586 D_B: 0.225 G_B: 0.475 cycle_B: 1.281 idt_B: 0.402 \n",
      "(epoch: 1, iters: 6700, time: 0.140, data: 0.001) D_A: 0.416 G_A: 0.159 cycle_A: 0.591 idt_A: 0.544 D_B: 0.076 G_B: 0.611 cycle_B: 1.452 idt_B: 0.269 \n",
      "(epoch: 1, iters: 6800, time: 0.250, data: 0.001) D_A: 0.098 G_A: 0.584 cycle_A: 0.564 idt_A: 0.533 D_B: 0.306 G_B: 0.775 cycle_B: 1.380 idt_B: 0.274 \n",
      "(epoch: 1, iters: 6900, time: 0.140, data: 0.001) D_A: 0.232 G_A: 0.369 cycle_A: 1.110 idt_A: 0.408 D_B: 0.247 G_B: 0.147 cycle_B: 1.031 idt_B: 0.545 \n",
      "(epoch: 1, iters: 7000, time: 0.146, data: 0.001) D_A: 0.120 G_A: 0.558 cycle_A: 0.723 idt_A: 0.842 D_B: 0.335 G_B: 0.279 cycle_B: 1.882 idt_B: 0.197 \n",
      "(epoch: 1, iters: 7100, time: 0.140, data: 0.001) D_A: 0.090 G_A: 0.200 cycle_A: 0.438 idt_A: 0.528 D_B: 0.091 G_B: 0.382 cycle_B: 1.613 idt_B: 0.179 \n",
      "(epoch: 1, iters: 7200, time: 0.255, data: 0.001) D_A: 0.121 G_A: 0.179 cycle_A: 0.670 idt_A: 0.813 D_B: 0.167 G_B: 0.452 cycle_B: 2.023 idt_B: 0.334 \n",
      "(epoch: 1, iters: 7300, time: 0.140, data: 0.001) D_A: 0.402 G_A: 0.596 cycle_A: 1.639 idt_A: 0.683 D_B: 0.083 G_B: 0.460 cycle_B: 1.587 idt_B: 0.721 \n",
      "(epoch: 1, iters: 7400, time: 0.140, data: 0.001) D_A: 0.028 G_A: 0.655 cycle_A: 0.567 idt_A: 0.861 D_B: 0.232 G_B: 0.225 cycle_B: 1.569 idt_B: 0.215 \n",
      "(epoch: 1, iters: 7500, time: 0.140, data: 0.001) D_A: 0.192 G_A: 0.209 cycle_A: 0.474 idt_A: 0.940 D_B: 0.156 G_B: 0.292 cycle_B: 2.048 idt_B: 0.239 \n",
      "(epoch: 1, iters: 7600, time: 0.257, data: 0.001) D_A: 0.180 G_A: 0.173 cycle_A: 0.565 idt_A: 0.568 D_B: 0.125 G_B: 0.607 cycle_B: 1.295 idt_B: 0.210 \n",
      "(epoch: 1, iters: 7700, time: 0.140, data: 0.001) D_A: 0.323 G_A: 0.162 cycle_A: 1.121 idt_A: 0.934 D_B: 0.231 G_B: 0.288 cycle_B: 2.494 idt_B: 0.557 \n",
      "(epoch: 1, iters: 7800, time: 0.140, data: 0.001) D_A: 0.272 G_A: 0.100 cycle_A: 1.161 idt_A: 0.480 D_B: 0.332 G_B: 0.141 cycle_B: 1.207 idt_B: 0.524 \n",
      "(epoch: 1, iters: 7900, time: 0.134, data: 0.003) D_A: 0.227 G_A: 0.530 cycle_A: 0.515 idt_A: 0.541 D_B: 0.272 G_B: 0.123 cycle_B: 1.215 idt_B: 0.214 \n",
      "(epoch: 1, iters: 8000, time: 0.431, data: 0.001) D_A: 0.186 G_A: 0.543 cycle_A: 0.519 idt_A: 0.340 D_B: 0.145 G_B: 0.656 cycle_B: 0.999 idt_B: 0.220 \n",
      "(epoch: 1, iters: 8100, time: 0.140, data: 0.001) D_A: 0.435 G_A: 1.257 cycle_A: 0.347 idt_A: 0.933 D_B: 0.161 G_B: 0.095 cycle_B: 2.085 idt_B: 0.215 \n",
      "(epoch: 1, iters: 8200, time: 0.140, data: 0.001) D_A: 0.290 G_A: 0.758 cycle_A: 0.503 idt_A: 0.453 D_B: 0.195 G_B: 0.235 cycle_B: 1.330 idt_B: 0.197 \n",
      "(epoch: 1, iters: 8300, time: 0.139, data: 0.001) D_A: 0.251 G_A: 0.119 cycle_A: 0.446 idt_A: 0.624 D_B: 0.322 G_B: 0.166 cycle_B: 1.383 idt_B: 0.184 \n",
      "(epoch: 1, iters: 8400, time: 0.253, data: 0.001) D_A: 0.104 G_A: 0.745 cycle_A: 0.828 idt_A: 0.639 D_B: 0.059 G_B: 0.642 cycle_B: 1.265 idt_B: 0.368 \n",
      "(epoch: 1, iters: 8500, time: 0.140, data: 0.001) D_A: 0.155 G_A: 0.491 cycle_A: 0.645 idt_A: 0.506 D_B: 0.144 G_B: 0.562 cycle_B: 1.243 idt_B: 0.295 \n",
      "End of epoch 1 / 200 \t Time Taken: 1012 sec\n",
      "learning rate 0.0002000 -> 0.0002000\n",
      "(epoch: 2, iters: 31, time: 0.140, data: 0.001) D_A: 0.131 G_A: 0.104 cycle_A: 1.070 idt_A: 0.563 D_B: 0.304 G_B: 0.571 cycle_B: 1.312 idt_B: 0.423 \n",
      "(epoch: 2, iters: 131, time: 0.140, data: 0.001) D_A: 0.226 G_A: 0.823 cycle_A: 0.575 idt_A: 0.681 D_B: 0.107 G_B: 0.246 cycle_B: 1.647 idt_B: 0.205 \n",
      "(epoch: 2, iters: 231, time: 0.414, data: 0.001) D_A: 0.151 G_A: 0.219 cycle_A: 0.628 idt_A: 0.634 D_B: 0.389 G_B: 0.068 cycle_B: 1.439 idt_B: 0.286 \n",
      "(epoch: 2, iters: 331, time: 0.140, data: 0.001) D_A: 0.081 G_A: 0.325 cycle_A: 0.727 idt_A: 0.841 D_B: 0.440 G_B: 0.232 cycle_B: 1.730 idt_B: 0.364 \n",
      "(epoch: 2, iters: 431, time: 0.140, data: 0.001) D_A: 0.173 G_A: 0.604 cycle_A: 0.591 idt_A: 0.535 D_B: 0.083 G_B: 0.535 cycle_B: 1.690 idt_B: 0.218 \n",
      "(epoch: 2, iters: 531, time: 0.116, data: 0.001) D_A: 0.297 G_A: 0.208 cycle_A: 0.613 idt_A: 0.542 D_B: 0.151 G_B: 0.539 cycle_B: 1.240 idt_B: 0.279 \n",
      "(epoch: 2, iters: 631, time: 0.232, data: 0.000) D_A: 0.119 G_A: 0.337 cycle_A: 0.378 idt_A: 0.511 D_B: 0.197 G_B: 0.393 cycle_B: 1.154 idt_B: 0.144 \n",
      "(epoch: 2, iters: 731, time: 0.116, data: 0.001) D_A: 0.364 G_A: 0.938 cycle_A: 0.568 idt_A: 0.676 D_B: 0.151 G_B: 0.522 cycle_B: 1.673 idt_B: 0.169 \n",
      "(epoch: 2, iters: 831, time: 0.116, data: 1.100) D_A: 0.076 G_A: 0.248 cycle_A: 0.619 idt_A: 0.605 D_B: 0.127 G_B: 0.564 cycle_B: 1.150 idt_B: 0.304 \n",
      "(epoch: 2, iters: 931, time: 0.116, data: 0.000) D_A: 0.185 G_A: 0.199 cycle_A: 0.329 idt_A: 0.437 D_B: 0.255 G_B: 0.180 cycle_B: 1.132 idt_B: 0.146 \n",
      "(epoch: 2, iters: 1031, time: 0.246, data: 0.000) D_A: 0.145 G_A: 0.317 cycle_A: 0.371 idt_A: 0.430 D_B: 0.186 G_B: 0.255 cycle_B: 1.035 idt_B: 0.142 \n",
      "(epoch: 2, iters: 1131, time: 0.139, data: 5.545) D_A: 0.152 G_A: 0.762 cycle_A: 0.715 idt_A: 0.465 D_B: 0.335 G_B: 1.052 cycle_B: 1.065 idt_B: 0.282 \n",
      "(epoch: 2, iters: 1231, time: 0.139, data: 4.985) D_A: 0.176 G_A: 0.221 cycle_A: 0.486 idt_A: 0.404 D_B: 0.088 G_B: 0.287 cycle_B: 1.007 idt_B: 0.187 \n",
      "(epoch: 2, iters: 1331, time: 0.139, data: 2.248) D_A: 0.321 G_A: 0.088 cycle_A: 0.721 idt_A: 0.778 D_B: 0.118 G_B: 0.470 cycle_B: 0.893 idt_B: 0.172 \n",
      "(epoch: 2, iters: 1431, time: 0.431, data: 1.498) D_A: 0.260 G_A: 0.294 cycle_A: 0.548 idt_A: 0.452 D_B: 0.132 G_B: 0.445 cycle_B: 0.970 idt_B: 0.220 \n",
      "saving the latest model (epoch 2, total_iters 10000)\n",
      "(epoch: 2, iters: 1531, time: 0.139, data: 5.412) D_A: 0.078 G_A: 0.447 cycle_A: 1.080 idt_A: 0.345 D_B: 0.255 G_B: 0.791 cycle_B: 0.977 idt_B: 0.516 \n",
      "(epoch: 2, iters: 1631, time: 0.139, data: 5.141) D_A: 0.277 G_A: 1.096 cycle_A: 1.139 idt_A: 0.494 D_B: 0.185 G_B: 0.306 cycle_B: 2.081 idt_B: 0.530 \n",
      "(epoch: 2, iters: 1731, time: 0.139, data: 0.001) D_A: 0.152 G_A: 0.387 cycle_A: 0.474 idt_A: 0.627 D_B: 0.113 G_B: 0.390 cycle_B: 1.045 idt_B: 0.189 \n",
      "(epoch: 2, iters: 1831, time: 0.261, data: 0.001) D_A: 0.163 G_A: 0.367 cycle_A: 1.021 idt_A: 0.391 D_B: 0.141 G_B: 0.257 cycle_B: 1.223 idt_B: 0.460 \n",
      "(epoch: 2, iters: 1931, time: 0.139, data: 0.001) D_A: 0.256 G_A: 0.335 cycle_A: 0.508 idt_A: 0.527 D_B: 0.283 G_B: 0.179 cycle_B: 1.403 idt_B: 0.158 \n",
      "(epoch: 2, iters: 2031, time: 0.140, data: 0.001) D_A: 0.160 G_A: 0.324 cycle_A: 0.583 idt_A: 0.710 D_B: 0.291 G_B: 0.188 cycle_B: 1.457 idt_B: 0.283 \n",
      "(epoch: 2, iters: 2131, time: 0.139, data: 0.001) D_A: 0.163 G_A: 0.342 cycle_A: 0.766 idt_A: 0.516 D_B: 0.079 G_B: 0.509 cycle_B: 1.123 idt_B: 0.316 \n",
      "(epoch: 2, iters: 2231, time: 0.255, data: 0.001) D_A: 0.154 G_A: 0.192 cycle_A: 0.515 idt_A: 0.390 D_B: 0.147 G_B: 0.306 cycle_B: 0.949 idt_B: 0.221 \n",
      "(epoch: 2, iters: 2331, time: 0.139, data: 0.001) D_A: 0.227 G_A: 0.154 cycle_A: 1.128 idt_A: 0.530 D_B: 0.166 G_B: 0.226 cycle_B: 1.608 idt_B: 0.534 \n",
      "(epoch: 2, iters: 2431, time: 0.140, data: 0.001) D_A: 0.264 G_A: 0.339 cycle_A: 0.586 idt_A: 0.438 D_B: 0.105 G_B: 0.083 cycle_B: 1.207 idt_B: 0.269 \n",
      "(epoch: 2, iters: 2531, time: 0.140, data: 0.001) D_A: 0.353 G_A: 0.140 cycle_A: 0.860 idt_A: 0.450 D_B: 0.435 G_B: 0.039 cycle_B: 1.153 idt_B: 0.410 \n",
      "(epoch: 2, iters: 2631, time: 0.252, data: 0.001) D_A: 0.141 G_A: 0.080 cycle_A: 0.647 idt_A: 0.439 D_B: 0.145 G_B: 0.379 cycle_B: 1.142 idt_B: 0.178 \n",
      "(epoch: 2, iters: 2731, time: 0.116, data: 0.001) D_A: 0.140 G_A: 0.298 cycle_A: 0.562 idt_A: 1.048 D_B: 0.143 G_B: 0.400 cycle_B: 2.160 idt_B: 0.277 \n",
      "(epoch: 2, iters: 2831, time: 0.116, data: 1.107) D_A: 0.317 G_A: 0.295 cycle_A: 0.613 idt_A: 1.015 D_B: 0.492 G_B: 0.084 cycle_B: 1.777 idt_B: 0.206 \n",
      "(epoch: 2, iters: 2931, time: 0.116, data: 0.250) D_A: 0.238 G_A: 0.196 cycle_A: 0.556 idt_A: 0.418 D_B: 0.129 G_B: 0.268 cycle_B: 1.282 idt_B: 0.225 \n",
      "(epoch: 2, iters: 3031, time: 0.232, data: 0.001) D_A: 0.220 G_A: 0.661 cycle_A: 0.747 idt_A: 0.612 D_B: 0.191 G_B: 0.559 cycle_B: 1.523 idt_B: 0.286 \n",
      "(epoch: 2, iters: 3131, time: 0.116, data: 0.001) D_A: 0.104 G_A: 0.424 cycle_A: 0.471 idt_A: 0.728 D_B: 0.078 G_B: 0.108 cycle_B: 1.569 idt_B: 0.219 \n",
      "(epoch: 2, iters: 3231, time: 0.116, data: 0.000) D_A: 0.392 G_A: 0.358 cycle_A: 0.732 idt_A: 0.396 D_B: 0.211 G_B: 0.323 cycle_B: 0.933 idt_B: 0.311 \n",
      "(epoch: 2, iters: 3331, time: 0.116, data: 0.000) D_A: 0.252 G_A: 0.424 cycle_A: 0.684 idt_A: 0.821 D_B: 0.227 G_B: 0.110 cycle_B: 2.161 idt_B: 0.241 \n",
      "(epoch: 2, iters: 3431, time: 0.462, data: 0.001) D_A: 0.508 G_A: 0.445 cycle_A: 0.969 idt_A: 0.401 D_B: 0.197 G_B: 0.344 cycle_B: 1.178 idt_B: 0.438 \n",
      "^C\n",
      "Traceback (most recent call last):\n",
      "  File \"/auto/brno2/home/javorek/pytorch-CycleGAN-and-pix2pix/train.py\", line 44, in <module>\n",
      "    for i, data in enumerate(dataset):  # inner loop within one epoch\n",
      "  File \"/auto/brno2/home/javorek/pytorch-CycleGAN-and-pix2pix/data/__init__.py\", line 90, in __iter__\n",
      "    for i, data in enumerate(self.dataloader):\n",
      "  File \"/usr/local/lib/python3.10/dist-packages/torch/utils/data/dataloader.py\", line 633, in __next__\n",
      "    data = self._next_data()\n",
      "  File \"/usr/local/lib/python3.10/dist-packages/torch/utils/data/dataloader.py\", line 1331, in _next_data\n",
      "    idx, data = self._get_data()\n",
      "  File \"/usr/local/lib/python3.10/dist-packages/torch/utils/data/dataloader.py\", line 1297, in _get_data\n",
      "    success, data = self._try_get_data()\n",
      "  File \"/usr/local/lib/python3.10/dist-packages/torch/utils/data/dataloader.py\", line 1135, in _try_get_data\n",
      "    data = self._data_queue.get(timeout=timeout)\n",
      "  File \"/usr/lib/python3.10/multiprocessing/queues.py\", line 113, in get\n",
      "    if not self._poll(timeout):\n",
      "  File \"/usr/lib/python3.10/multiprocessing/connection.py\", line 257, in poll\n",
      "    return self._poll(timeout)\n",
      "  File \"/usr/lib/python3.10/multiprocessing/connection.py\", line 424, in _poll\n",
      "    r = wait([self], timeout)\n",
      "  File \"/usr/lib/python3.10/multiprocessing/connection.py\", line 931, in wait\n",
      "    ready = selector.select(timeout)\n",
      "  File \"/usr/lib/python3.10/selectors.py\", line 416, in select\n",
      "    fd_event_list = self._selector.poll(timeout)\n",
      "KeyboardInterrupt\n"
     ]
    }
   ],
   "source": [
    "!python train.py --dataroot /storage/plzen1/home/javorek/livergan --name livergan --model cycle_gan\n",
    "# DOPLNIT, parametry atd"
   ]
  },
  {
   "cell_type": "code",
   "execution_count": null,
   "metadata": {
    "id": "BnJQR4RRhBWr"
   },
   "outputs": [],
   "source": [
    "# convert checkpoints"
   ]
  },
  {
   "cell_type": "markdown",
   "metadata": {
    "id": "f5gGZm2ChDMd"
   },
   "source": [
    "# Testing"
   ]
  },
  {
   "cell_type": "code",
   "execution_count": null,
   "metadata": {
    "id": "SSA59xsEhFDK"
   },
   "outputs": [
    {
     "name": "stdout",
     "output_type": "stream",
     "text": [
      "----------------- Options ---------------\r\n",
      "             aspect_ratio: 1.0                           \r\n",
      "               batch_size: 1                             \r\n",
      "          checkpoints_dir: ./checkpoints                 \r\n",
      "                crop_size: 256                           \r\n",
      "                 dataroot: /storage/plzen1/home/javorek/livergan/testA\t[default: None]\r\n",
      "             dataset_mode: single                        \r\n",
      "                direction: AtoB                          \r\n",
      "          display_winsize: 256                           \r\n",
      "                    epoch: latest                        \r\n",
      "                     eval: False                         \r\n",
      "                  gpu_ids: 0                             \r\n",
      "                init_gain: 0.02                          \r\n",
      "                init_type: normal                        \r\n",
      "                 input_nc: 3                             \r\n",
      "                  isTrain: False                         \t[default: None]\r\n",
      "                load_iter: 0                             \t[default: 0]\r\n",
      "                load_size: 256                           \r\n",
      "         max_dataset_size: inf                           \r\n",
      "                    model: test                          \r\n",
      "             model_suffix:                               \r\n",
      "               n_layers_D: 3                             \r\n",
      "                     name: livergan                      \t[default: experiment_name]\r\n",
      "                      ndf: 64                            \r\n",
      "                     netD: basic                         \r\n",
      "                     netG: resnet_9blocks                \r\n",
      "                      ngf: 64                            \r\n",
      "               no_dropout: True                          \t[default: False]\r\n",
      "                  no_flip: False                         \r\n",
      "                     norm: instance                      \r\n",
      "                 num_test: 50                            \r\n",
      "              num_threads: 4                             \r\n",
      "                output_nc: 3                             \r\n",
      "                    phase: test                          \r\n",
      "               preprocess: resize_and_crop               \r\n",
      "              results_dir: ./results/                    \r\n",
      "           serial_batches: False                         \r\n",
      "                   suffix:                               \r\n",
      "                use_wandb: False                         \r\n",
      "                  verbose: False                         \r\n",
      "       wandb_project_name: CycleGAN-and-pix2pix          \r\n",
      "----------------- End -------------------\r\n"
     ]
    }
   ],
   "source": [
    "!python test.py --dataroot /storage/plzen1/home/javorek/livergan/testA --name livergan --model test --no_dropout\n",
    "# doplnit parametry"
   ]
  },
  {
   "cell_type": "code",
   "execution_count": null,
   "metadata": {},
   "outputs": [],
   "source": []
  }
 ],
 "metadata": {
  "colab": {
   "provenance": []
  },
  "kernelspec": {
   "display_name": "Python 3 (ipykernel)",
   "language": "python",
   "name": "python3"
  },
  "language_info": {
   "codemirror_mode": {
    "name": "ipython",
    "version": 3
   },
   "file_extension": ".py",
   "mimetype": "text/x-python",
   "name": "python",
   "nbconvert_exporter": "python",
   "pygments_lexer": "ipython3",
   "version": "3.10.12"
  }
 },
 "nbformat": 4,
 "nbformat_minor": 1
}
